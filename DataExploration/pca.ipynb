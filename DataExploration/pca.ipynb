{
 "cells": [
  {
   "cell_type": "markdown",
   "metadata": {},
   "source": [
    "**Imports**"
   ]
  },
  {
   "cell_type": "code",
   "execution_count": null,
   "metadata": {
    "scrolled": true
   },
   "outputs": [],
   "source": [
    "import json\n",
    "from pprint import pprint\n",
    "import pandas as pd\n",
    "import re\n",
    "import string\n",
    "\n",
    "import nltk\n",
    "from nltk.corpus import stopwords\n",
    "from nltk.tokenize import TweetTokenizer\n",
    "from nltk.stem import WordNetLemmatizer\n",
    "from nltk.stem import PorterStemmer\n",
    "from nltk.corpus import wordnet\n",
    "\n",
    "import matplotlib.pyplot as plt\n",
    "%matplotlib inline\n",
    "import numpy as np\n",
    "\n",
    "from pathlib import Path\n",
    "\n",
    "from sklearn.decomposition import PCA\n",
    "from mpl_toolkits.mplot3d import Axes3D\n",
    "from sklearn.preprocessing import StandardScaler"
   ]
  },
  {
   "cell_type": "code",
   "execution_count": null,
   "metadata": {},
   "outputs": [],
   "source": [
    "nltk.download('wordnet')\n",
    "nltk.download('averaged_perceptron_tagger')"
   ]
  },
  {
   "cell_type": "markdown",
   "metadata": {},
   "source": [
    "# Constructing the basic dataset"
   ]
  },
  {
   "cell_type": "code",
   "execution_count": 385,
   "metadata": {},
   "outputs": [],
   "source": [
    "data_folder = Path('../data/twint')\n",
    "tweets_file = data_folder / 'data_new2.txt'"
   ]
  },
  {
   "cell_type": "code",
   "execution_count": 386,
   "metadata": {},
   "outputs": [],
   "source": [
    "f = open(tweets_file, 'r')\n",
    "lines = [l for l in f]\n",
    "f.close()"
   ]
  },
  {
   "cell_type": "code",
   "execution_count": 388,
   "metadata": {},
   "outputs": [
    {
     "name": "stdout",
     "output_type": "stream",
     "text": [
      "{'id': 1134217832886149120, 'conversation_id': '1134217832886149120', 'created_at': 1559253578000, 'date': '2019-05-30', 'time': '23:59:38', 'timezone': '+0200', 'user_id': 803710812649033728, 'username': 'fuelvc', 'name': 'Fuel Venture Capital', 'place': '', 'tweet': '\"The question prospective investors have to ask themselves about #Uber is not how much the stock has dipped since the #IPO, but do they think @Uber will be successful 10 years from now,\" says Managing Director of Rokk3r Fuel @LPFocused @CNBCClosingBell  https://cnb.cx/2YRrRFw\\xa0', 'language': 'en', 'mentions': ['uber', 'cnbcclosingbell'], 'urls': ['https://cnb.cx/2YRrRFw'], 'photos': [], 'replies_count': 0, 'retweets_count': 0, 'likes_count': 11, 'hashtags': ['#uber', '#ipo'], 'cashtags': [], 'link': 'https://twitter.com/FuelVC/status/1134217832886149120', 'retweet': False, 'quote_url': '', 'video': 0, 'near': '', 'geo': '', 'source': '', 'user_rt_id': '', 'user_rt': '', 'retweet_id': '', 'reply_to': [{'user_id': '803710812649033728', 'username': 'FuelVC'}, {'user_id': '19103481', 'username': 'Uber'}, {'user_id': '21778391', 'username': 'CNBCClosingBell'}], 'retweet_date': '', 'translate': '', 'trans_src': '', 'trans_dest': ''}\n"
     ]
    }
   ],
   "source": [
    "tweets = [json.loads(l) for l in lines]\n",
    "print(tweets[0])"
   ]
  },
  {
   "cell_type": "code",
   "execution_count": 389,
   "metadata": {},
   "outputs": [
    {
     "name": "stdout",
     "output_type": "stream",
     "text": [
      "Number of tweets:\t51853\n"
     ]
    }
   ],
   "source": [
    "print('Number of tweets:\\t%s' % len(tweets))"
   ]
  },
  {
   "cell_type": "markdown",
   "metadata": {},
   "source": [
    "## Top 20 Hashtags"
   ]
  },
  {
   "cell_type": "code",
   "execution_count": null,
   "metadata": {},
   "outputs": [],
   "source": [
    "hashtags = [h for t in tweets for h in t['hashtags']]"
   ]
  },
  {
   "cell_type": "code",
   "execution_count": null,
   "metadata": {},
   "outputs": [],
   "source": [
    "from collections import Counter\n",
    "hashtags_count = pd.DataFrame.from_dict(Counter(hashtags), orient='index', columns=['count']).sort_values(by='count', ascending=False)[:20]\n",
    "hashtags_count"
   ]
  },
  {
   "cell_type": "code",
   "execution_count": null,
   "metadata": {},
   "outputs": [],
   "source": [
    "all_hashtags = []\n",
    "for t in tweets:\n",
    "    hashtags = t['hashtags']\n",
    "    for h in hashtags:\n",
    "        all_hashtags.append(h)\n",
    "                                  \n",
    "hashtags_counter = Counter(all_hashtags)\n",
    "hashtag_count_df = pd.DataFrame.from_dict(hashtags_counter, orient='index', columns=['count']).sort_values(by=['count'], ascending=False).head(10)\n",
    "hashtag_count_df.plot(kind='bar', legend=False, title='Hashtag occurrences', figsize=(15, 5))\n",
    "plt.show()"
   ]
  },
  {
   "cell_type": "markdown",
   "metadata": {},
   "source": [
    "## Tweet Time Distribution"
   ]
  },
  {
   "cell_type": "code",
   "execution_count": null,
   "metadata": {},
   "outputs": [],
   "source": [
    "dates_to_n_tweets = {}\n",
    "\n",
    "for t in tweets:\n",
    "    date = t['date'].split('-')[1] + '-' + t['date'].split('-')[2]\n",
    "    try:\n",
    "        dates_to_n_tweets[date] = dates_to_n_tweets[date] + 1\n",
    "    except:\n",
    "        dates_to_n_tweets[date] = 0\n",
    "\n",
    "sorted_dates = sorted(dates_to_n_tweets.items())\n",
    "plt.figure(1, figsize=(40, 10))\n",
    "plt.bar([e[0] for e in sorted_dates], [e[1] for e in sorted_dates])\n",
    "plt.title('Number Tweets per day (April and May 2019)')\n",
    "plt.xlabel('Day')\n",
    "plt.ylabel('Number of Tweets')\n",
    "plt.show()"
   ]
  },
  {
   "cell_type": "markdown",
   "metadata": {},
   "source": [
    "# Text preparation"
   ]
  },
  {
   "cell_type": "code",
   "execution_count": null,
   "metadata": {},
   "outputs": [],
   "source": [
    "stop_words = stopwords.words('english')\n",
    "tokenizer = TweetTokenizer()\n",
    "lemmatizer = WordNetLemmatizer()\n",
    "stemmer = PorterStemmer()"
   ]
  },
  {
   "cell_type": "code",
   "execution_count": null,
   "metadata": {},
   "outputs": [],
   "source": [
    "def word_tokenize(tweet):\n",
    "    return tokenizer.tokenize(tweet)\n",
    "\n",
    "def get_wordnet_pos(word):\n",
    "    tag = nltk.pos_tag([word])[0][1][0].upper()\n",
    "    tag_dict = {\"J\": wordnet.ADJ,\n",
    "                \"N\": wordnet.NOUN,\n",
    "                \"V\": wordnet.VERB,\n",
    "                \"R\": wordnet.ADV}\n",
    "\n",
    "    return tag_dict.get(tag, wordnet.NOUN)\n",
    "\n",
    "# https://stackoverflow.com/a/49146722/330558\n",
    "def remove_emoji(string):\n",
    "    emoji_pattern = re.compile(\"[\"\n",
    "                           u\"\\U0001F600-\\U0001F64F\"  # emoticons\n",
    "                           u\"\\U0001F300-\\U0001F5FF\"  # symbols & pictographs\n",
    "                           u\"\\U0001F680-\\U0001F6FF\"  # transport & map symbols\n",
    "                           u\"\\U0001F1E0-\\U0001F1FF\"  # flags (iOS)\n",
    "                           u\"\\U00002702-\\U000027B0\"\n",
    "                           u\"\\U000024C2-\\U0001F251\"\n",
    "                           \"]+\", flags=re.UNICODE)\n",
    "    return emoji_pattern.sub(r'', string)\n",
    "\n",
    "def preprocess_tweet_text(tweet):\n",
    "    tweet = tweet.lower()\n",
    "    #Remove numbers\n",
    "    tweet = re.sub(r\"[0-9]\", '', tweet, flags=re.MULTILINE)\n",
    "    # Remove urls\n",
    "    tweet = re.sub(r\"http\\S+|www\\S+|https\\S+\", '', tweet, flags=re.MULTILINE)\n",
    "    # Remove punctuation\n",
    "    tweet = tweet.translate(str.maketrans('', '', string.punctuation))\n",
    "    # Remove emojis\n",
    "    tweet = remove_emoji(tweet)\n",
    "    # Tokenize\n",
    "    tweet_tokens = word_tokenize(tweet)\n",
    "    # Remove stopwords\n",
    "    filtered_words = [w for w in tweet_tokens if not w in stop_words]\n",
    "    # Stemming\n",
    "    #shortened = [stemmer.stem(w) for w in filtered_words]\n",
    "    # Lemmatizing\n",
    "    shortened = [lemmatizer.lemmatize(w, get_wordnet_pos(w)) for w in filtered_words]\n",
    "    # Remove non-alpha words\n",
    "    filtered_stemmed = [w for w in shortened if w.isalpha()]\n",
    "    # Filter out short lemmas\n",
    "    final_tokens = [w for w in filtered_stemmed if len(w) > 2]\n",
    "    \n",
    "    return final_tokens"
   ]
  },
  {
   "cell_type": "code",
   "execution_count": null,
   "metadata": {},
   "outputs": [],
   "source": [
    "unique_usernames = {t['username'] for t in tweets}\n",
    "users_to_documents = {u:[] for u in unique_usernames}\n",
    "\n",
    "for tw in tweets:\n",
    "    u = tw['username']\n",
    "    t = preprocess_tweet_text(tw['tweet'])\n",
    "    users_to_documents[u] = users_to_documents[u] + t\n",
    "\n",
    "print(list(users_to_documents.items())[100])"
   ]
  },
  {
   "cell_type": "markdown",
   "metadata": {},
   "source": [
    "## See document length distribution"
   ]
  },
  {
   "cell_type": "code",
   "execution_count": null,
   "metadata": {},
   "outputs": [],
   "source": [
    "lengths = {u:len(doc) for (u, doc) in users_to_documents.items()}\n",
    "min = np.min(list(lengths.values()))\n",
    "max = np.max(list(lengths.values()))\n",
    "bins = np.linspace(start=min, stop=max, num=200, endpoint=True)\n",
    "\n",
    "labels = list(range(199))\n",
    "\n",
    "lengths_df = pd.DataFrame({'Doc': list(lengths.keys()), 'Length': list(lengths.values())})\n",
    "\n",
    "s = pd.cut(lengths_df['Length'], bins=bins).value_counts()\n",
    "\n",
    "s.head().plot(kind='bar')"
   ]
  },
  {
   "cell_type": "markdown",
   "metadata": {},
   "source": [
    "## Filter out any users that now have less than 100 tokens"
   ]
  },
  {
   "cell_type": "code",
   "execution_count": null,
   "metadata": {},
   "outputs": [],
   "source": [
    "print(len(users_to_documents.values()))\n",
    "users_to_documents_doc_length_filtered = {u:doc for (u, doc) in users_to_documents.items() if len(doc) >= 120}\n",
    "print(len(users_to_documents_doc_length_filtered.values()))"
   ]
  },
  {
   "cell_type": "markdown",
   "metadata": {},
   "source": [
    "## Filter out any users with a very low lexical diversity"
   ]
  },
  {
   "cell_type": "code",
   "execution_count": null,
   "metadata": {},
   "outputs": [],
   "source": [
    "def lexical_diversity_percentage(tokens):\n",
    "    return len(set(tokens)) / len(tokens) * 100"
   ]
  },
  {
   "cell_type": "markdown",
   "metadata": {},
   "source": [
    "### Lexical diversity histogram"
   ]
  },
  {
   "cell_type": "code",
   "execution_count": null,
   "metadata": {},
   "outputs": [],
   "source": [
    "lexical_diversities = {u:lexical_diversity_percentage(doc) for (u, doc) in users_to_documents_doc_length_filtered.items()}\n",
    "lexical_div_df = pd.DataFrame.from_dict(lexical_diversities, orient='index', columns=['diversity'])\n",
    "lexical_div_df.groupby('diversity')\n",
    "plt.figure(1, figsize=(30, 10))\n",
    "lexical_div_df['diversity'].plot(kind='hist')"
   ]
  },
  {
   "cell_type": "code",
   "execution_count": null,
   "metadata": {},
   "outputs": [],
   "source": [
    "print(len(users_to_documents_doc_length_filtered))\n",
    "users_to_documents_filtered = {u:doc for (u, doc) in users_to_documents_doc_length_filtered.items() if lexical_diversity_percentage(doc) >= 48}\n",
    "len(users_to_documents_filtered)"
   ]
  },
  {
   "cell_type": "markdown",
   "metadata": {},
   "source": [
    "# Constructing the Term/Document Matrix"
   ]
  },
  {
   "cell_type": "code",
   "execution_count": null,
   "metadata": {},
   "outputs": [],
   "source": [
    "from sklearn.feature_extraction.text import TfidfVectorizer"
   ]
  },
  {
   "cell_type": "code",
   "execution_count": null,
   "metadata": {},
   "outputs": [],
   "source": [
    "docs = users_to_documents_filtered.values()"
   ]
  },
  {
   "cell_type": "code",
   "execution_count": null,
   "metadata": {},
   "outputs": [],
   "source": [
    "def do_nothing(tokens):\n",
    "    return tokens\n",
    "\n",
    "vectorizer = TfidfVectorizer(lowercase=False, tokenizer=do_nothing, min_df=0.3, max_df=0.7)\n",
    "\n",
    "X = vectorizer.fit_transform(docs)"
   ]
  },
  {
   "cell_type": "code",
   "execution_count": null,
   "metadata": {},
   "outputs": [],
   "source": [
    "tf_idf_df = pd.DataFrame(X.toarray(), columns=vectorizer.get_feature_names())"
   ]
  },
  {
   "cell_type": "code",
   "execution_count": null,
   "metadata": {},
   "outputs": [],
   "source": [
    "tf_idf_df"
   ]
  },
  {
   "cell_type": "markdown",
   "metadata": {},
   "source": [
    "## Performing a PCA"
   ]
  },
  {
   "cell_type": "code",
   "execution_count": null,
   "metadata": {},
   "outputs": [],
   "source": [
    "from sklearn import preprocessing\n",
    "data_scaled = pd.DataFrame(preprocessing.normalize(tf_idf_df), columns=tf_idf_df.columns)\n",
    "data_scaled"
   ]
  },
  {
   "cell_type": "markdown",
   "metadata": {},
   "source": [
    "## Perform the PCA"
   ]
  },
  {
   "cell_type": "code",
   "execution_count": null,
   "metadata": {},
   "outputs": [],
   "source": [
    "pca = PCA(n_components=10)\n",
    "X_reduced = pca.fit_transform(data_scaled)"
   ]
  },
  {
   "cell_type": "code",
   "execution_count": null,
   "metadata": {},
   "outputs": [],
   "source": [
    "len(X_reduced[:, 0])"
   ]
  },
  {
   "cell_type": "markdown",
   "metadata": {},
   "source": [
    "## Analyze the percentage of explained variance per principal component"
   ]
  },
  {
   "cell_type": "code",
   "execution_count": null,
   "metadata": {},
   "outputs": [],
   "source": [
    "pd.DataFrame(pca.explained_variance_ratio_)"
   ]
  },
  {
   "cell_type": "code",
   "execution_count": null,
   "metadata": {},
   "outputs": [],
   "source": [
    "explained_variance = pca.explained_variance_ratio_.sum()\n",
    "print(\"Explained variance of the PCA step: {}%\".format(int(explained_variance * 100)))\n",
    "print()"
   ]
  },
  {
   "cell_type": "code",
   "execution_count": null,
   "metadata": {},
   "outputs": [],
   "source": [
    "y = range(0, len(X_reduced))\n",
    "plt.figure(1, figsize=(10, 10))\n",
    "plt.scatter(X_reduced[:, 0], X_reduced[:, 1], c=y, cmap=plt.cm.Set2, edgecolor='k')\n",
    "plt.title('2D Plot')"
   ]
  },
  {
   "cell_type": "markdown",
   "metadata": {},
   "source": [
    "## 3D Plot"
   ]
  },
  {
   "cell_type": "code",
   "execution_count": null,
   "metadata": {},
   "outputs": [],
   "source": [
    "fig = plt.figure(1, figsize=(10, 10))\n",
    "ax = Axes3D(fig, elev=-150, azim=110)\n",
    "y = range(0, len(X_reduced))\n",
    "ax.scatter(X_reduced[:, 0], X_reduced[:, 1], X_reduced[:, 2], c=y,\n",
    "           cmap=plt.cm.Set1, edgecolor='k')\n",
    "ax.set_title(\"PCA 3D Plot\")"
   ]
  },
  {
   "cell_type": "markdown",
   "metadata": {},
   "source": [
    "## See the documents/users with highest MSE"
   ]
  },
  {
   "cell_type": "code",
   "execution_count": null,
   "metadata": {},
   "outputs": [],
   "source": [
    "inverse_transform_data = pca.inverse_transform(X_reduced)\n",
    "MSE_score = ((data_scaled-inverse_transform_data)**2).sum(axis=1)"
   ]
  },
  {
   "cell_type": "code",
   "execution_count": null,
   "metadata": {},
   "outputs": [],
   "source": [
    "MSE_max_scores = list(MSE_score.nlargest(10).index)"
   ]
  },
  {
   "cell_type": "code",
   "execution_count": null,
   "metadata": {},
   "outputs": [],
   "source": [
    "docs_with_highest_mse_df = users_to_documents_df.iloc[MSE_max_scores]\n",
    "docs_with_highest_mse_df"
   ]
  },
  {
   "cell_type": "markdown",
   "metadata": {},
   "source": [
    "### See the length of the documents/users with highest MSE"
   ]
  },
  {
   "cell_type": "code",
   "execution_count": null,
   "metadata": {},
   "outputs": [],
   "source": [
    "usernames_with_highest_mse = list(docs_with_highest_mse_df.index)\n",
    "lengths_of_docs_with_highest_mse_df = pd.DataFrame.from_dict({u:len(users_to_documents[u]) for u in usernames_with_highest_mse}, orient='index', columns=['count']).sort_values(by='count', ascending=False)\n",
    "lengths_of_docs_with_highest_mse_df"
   ]
  },
  {
   "cell_type": "markdown",
   "metadata": {},
   "source": [
    "## See the documents/users with the lowest MSE"
   ]
  },
  {
   "cell_type": "code",
   "execution_count": null,
   "metadata": {},
   "outputs": [],
   "source": [
    "MSE_low_scores = list(MSE_score.nsmallest(10).index)"
   ]
  },
  {
   "cell_type": "code",
   "execution_count": null,
   "metadata": {},
   "outputs": [],
   "source": [
    "docs_with_lowest_mse_df = users_to_documents_df.iloc[MSE_low_scores]\n",
    "docs_with_lowest_mse_df"
   ]
  },
  {
   "cell_type": "markdown",
   "metadata": {},
   "source": [
    "### See the length of the documents/users with lowest MSE"
   ]
  },
  {
   "cell_type": "code",
   "execution_count": null,
   "metadata": {},
   "outputs": [],
   "source": [
    "usernames_with_lowest_mse = list(docs_with_lowest_mse_df.index)\n",
    "lengths_of_docs_with_lowest_mse_df = pd.DataFrame.from_dict({u:len(users_to_documents[u]) for u in usernames_with_lowest_mse}, orient='index', columns=['count']).sort_values(by='count', ascending=False)\n",
    "lengths_of_docs_with_lowest_mse_df"
   ]
  },
  {
   "cell_type": "code",
   "execution_count": null,
   "metadata": {},
   "outputs": [],
   "source": [
    "# number of components\n",
    "n_pcs= pca.components_.shape[0]\n",
    "\n",
    "# get the index of the most important feature on EACH component\n",
    "# LIST COMPREHENSION HERE\n",
    "most_important_feature_indexes_per_pc = {}\n",
    "\n",
    "initial_feature_names = data_scaled.columns\n",
    "\n",
    "dfs = []\n",
    "\n",
    "for pc in range(n_pcs):\n",
    "    components_enumerated = list(enumerate(pca.components_[pc]))\n",
    "    components_sorted = sorted(components_enumerated, key=lambda x:np.abs(x[1]), reverse=True)\n",
    "    features_imps = {initial_feature_names[i]:imp for (i, imp) in components_sorted}\n",
    "    features_imps_df = pd.DataFrame.from_dict(features_imps, orient='index', columns = ['importance'] )[:20]\n",
    "    dfs.append(features_imps_df)\n",
    "    \n",
    "i = 1\n",
    "for df in dfs:\n",
    "    print('PCA %d' % i)\n",
    "    print(df)\n",
    "    print('')\n",
    "    i += 1"
   ]
  },
  {
   "cell_type": "markdown",
   "metadata": {},
   "source": [
    "# Clustering"
   ]
  },
  {
   "cell_type": "code",
   "execution_count": null,
   "metadata": {},
   "outputs": [],
   "source": [
    "from sklearn.cluster import KMeans\n",
    "from sklearn import metrics\n",
    "from sklearn.preprocessing import Normalizer"
   ]
  },
  {
   "cell_type": "code",
   "execution_count": null,
   "metadata": {},
   "outputs": [],
   "source": [
    "normalizer = Normalizer(copy=False)\n",
    "X_reduced_normalized = normalizer.fit_transform(X_reduced)\n",
    "km = KMeans(n_clusters=3)\n",
    "distances = km.fit_transform(X_reduced_normalized)"
   ]
  },
  {
   "cell_type": "markdown",
   "metadata": {},
   "source": [
    "## Plotting the clusters"
   ]
  },
  {
   "cell_type": "code",
   "execution_count": 381,
   "metadata": {},
   "outputs": [
    {
     "data": {
      "image/png": "[encoded data removed]",
      "text/plain": [
       "<Figure size 1080x1080 with 1 Axes>"
      ]
     },
     "metadata": {
      "needs_background": "light"
     },
     "output_type": "display_data"
    }
   ],
   "source": [
    "y_kmeans = km.labels_\n",
    "plt.figure(figsize=(15, 15))\n",
    "plt.scatter(X_reduced_normalized[:, 0], X_reduced_normalized[:, 1], c=y_kmeans, s=50, cmap='viridis')\n",
    "centers = km.cluster_centers_\n",
    "plt.scatter(centers[:, 0], centers[:, 1], c='black', s=200, alpha=0.5);"
   ]
  },
  {
   "cell_type": "code",
   "execution_count": 356,
   "metadata": {},
   "outputs": [
    {
     "name": "stdout",
     "output_type": "stream",
     "text": [
      "Cluster 0: get\n",
      " ride\n",
      " car\n",
      " drive\n",
      " like\n",
      " take\n",
      " know\n",
      " app\n",
      " make\n",
      " time\n",
      " one\n",
      " people\n",
      " need\n",
      " say\n",
      " today\n",
      " well\n",
      " look\n",
      " business\n",
      " day\n",
      " work\n",
      "Cluster 1: strike\n",
      " pay\n",
      " work\n",
      " may\n",
      " company\n",
      " make\n",
      " today\n",
      " people\n",
      " take\n",
      " well\n",
      " need\n",
      " new\n",
      " day\n",
      " like\n",
      " public\n",
      " app\n",
      " get\n",
      " one\n",
      " see\n",
      " say\n",
      "Cluster 2: ipo\n",
      " stock\n",
      " share\n",
      " billion\n",
      " price\n",
      " market\n",
      " public\n",
      " company\n",
      " year\n",
      " day\n",
      " say\n",
      " business\n",
      " may\n",
      " new\n",
      " make\n",
      " come\n",
      " look\n",
      " one\n",
      " time\n",
      " like\n"
     ]
    }
   ],
   "source": [
    "original_space_centroids = pca.inverse_transform(km.cluster_centers_)\n",
    "order_centroids = original_space_centroids.argsort()[:, ::-1]\n",
    "terms = vectorizer.get_feature_names()\n",
    "for i in range(3):\n",
    "    print(\"Cluster %d:\" % i, end='')\n",
    "    for ind in order_centroids[i, :20]:\n",
    "        print(' %s' % terms[ind], end='')\n",
    "        print()"
   ]
  },
  {
   "cell_type": "markdown",
   "metadata": {},
   "source": [
    "## Get the users per cluster"
   ]
  },
  {
   "cell_type": "code",
   "execution_count": null,
   "metadata": {},
   "outputs": [],
   "source": [
    "cluster_df = pd.DataFrame()\n",
    "cluster_df['user'] = users_to_documents_filtered.keys()\n",
    "cluster_df['cluster'] = km.labels_\n",
    "cluster_df['distance_to_0'] = distances[:, 0]\n",
    "cluster_df['distance_to_1'] = distances[:, 1]\n",
    "cluster_df['distance_to_2'] = distances[:, 2]"
   ]
  },
  {
   "cell_type": "code",
   "execution_count": null,
   "metadata": {},
   "outputs": [],
   "source": [
    "# Cluster 0\n",
    "users_cluster0 = cluster_df.loc[cluster_df['cluster'] == 0]\n",
    "# Cluster 1\n",
    "users_cluster1 = cluster_df.loc[cluster_df['cluster'] == 1]\n",
    "# Cluster 2\n",
    "users_cluster2 = cluster_df.loc[cluster_df['cluster'] == 2]"
   ]
  },
  {
   "cell_type": "markdown",
   "metadata": {},
   "source": [
    "## Get the tweets per cluster"
   ]
  },
  {
   "cell_type": "code",
   "execution_count": null,
   "metadata": {},
   "outputs": [],
   "source": [
    "tweets_cluster0 = [t for t in tweets if t['username'] in list(users_cluster0['user'])]    \n",
    "tweets_cluster1 = [t for t in tweets if t['username'] in list(users_cluster1['user'])]\n",
    "tweets_cluster2 = [t for t in tweets if t['username'] in list(users_cluster2['user'])]\n",
    "texts_cluster0 = [t['tweet'] for t in tweets_cluster0]\n",
    "texts_cluster1 = [t['tweet'] for t in tweets_cluster1]\n",
    "texts_cluster2 = [t['tweet'] for t in tweets_cluster2]"
   ]
  },
  {
   "cell_type": "markdown",
   "metadata": {},
   "source": [
    "## Most used hashtags per cluster"
   ]
  },
  {
   "cell_type": "code",
   "execution_count": 384,
   "metadata": {},
   "outputs": [
    {
     "data": {
      "image/png": "[encoded data removed]",
      "text/plain": [
       "<Figure size 1440x720 with 3 Axes>"
      ]
     },
     "metadata": {
      "needs_background": "light"
     },
     "output_type": "display_data"
    },
    {
     "name": "stdout",
     "output_type": "stream",
     "text": [
      "{'05-30': 29, '05-29': 19, '05-28': 8, '05-27': 2, '05-26': 3, '05-25': 13, '05-24': 20, '05-23': 15, '05-22': 13, '05-21': 16, '05-20': 12, '05-19': 17, '05-18': 12, '05-17': 17, '05-16': 26, '05-15': 48, '05-14': 80, '05-13': 97, '05-12': 31, '05-11': 83, '05-10': 220, '05-09': 114, '05-08': 127, '05-07': 78, '05-06': 40, '05-05': 17, '05-04': 23, '05-03': 37, '05-02': 31, '05-01': 33, '04-30': 31, '04-29': 36, '04-28': 12, '04-27': 33, '04-26': 84, '04-25': 20, '04-24': 11, '04-23': 32, '04-22': 28, '04-21': 7, '04-20': 13, '04-19': 31, '04-18': 36, '04-17': 24, '04-16': 33, '04-15': 45, '04-14': 24, '04-13': 30, '04-12': 114, '04-11': 59, '04-10': 43, '04-09': 24, '04-08': 22, '04-07': 5, '04-06': 13, '04-05': 19, '04-04': 19, '04-03': 21, '04-02': 57, '04-01': 32}\n"
     ]
    }
   ],
   "source": [
    "clusters = [tweets_cluster0, tweets_cluster1, tweets_cluster2]\n",
    "\n",
    "import matplotlib.pyplot as plt\n",
    "fig, axes =  plt.subplots(3,1, figsize=(20, 10))\n",
    "plt.subplots_adjust(hspace=0.6)\n",
    "i = 0\n",
    "for c in clusters:\n",
    "    dates_to_n_tweets = {}\n",
    "    for t in c:\n",
    "        date = t['date'].split('-')[1] + '-' + t['date'].split('-')[2]\n",
    "        try:\n",
    "            dates_to_n_tweets[date] = dates_to_n_tweets[date] + 1\n",
    "        except:\n",
    "            dates_to_n_tweets[date] = 0\n",
    "\n",
    "    sorted_dates = sorted(dates_to_n_tweets.items())\n",
    "    df = pd.DataFrame({'date': [e[0] for e in sorted_dates], 'count': [e[1] for e in sorted_dates]})\n",
    "    df.plot(ax=axes[i], kind='bar', title='Number Tweets per day (April and May 2019) in Cluster %d' % i)\n",
    "    i+=1\n",
    "plt.show()"
   ]
  },
  {
   "cell_type": "code",
   "execution_count": null,
   "metadata": {},
   "outputs": [],
   "source": []
  },
  {
   "cell_type": "code",
   "execution_count": null,
   "metadata": {},
   "outputs": [],
   "source": []
  }
 ],
 "metadata": {
  "kernelspec": {
   "display_name": "Python 3.8.2 64-bit",
   "language": "python",
   "name": "python38264bit4df60f5f9505484d8ff9ba651e850bad"
  },
  "language_info": {
   "codemirror_mode": {
    "name": "ipython",
    "version": 3
   },
   "file_extension": ".py",
   "mimetype": "text/x-python",
   "name": "python",
   "nbconvert_exporter": "python",
   "pygments_lexer": "ipython3",
   "version": "3.8.2"
  }
 },
 "nbformat": 4,
 "nbformat_minor": 4
}
