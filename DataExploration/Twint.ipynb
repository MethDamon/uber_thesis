{
 "cells": [
  {
   "cell_type": "code",
   "execution_count": 2,
   "metadata": {},
   "outputs": [
    {
     "name": "stdout",
     "output_type": "stream",
     "text": [
      "Requirement already satisfied: matplotlib in /home/tim/.local/lib/python3.8/site-packages (3.2.1)\n",
      "Requirement already satisfied: cycler>=0.10 in /home/tim/.local/lib/python3.8/site-packages (from matplotlib) (0.10.0)\n",
      "Requirement already satisfied: python-dateutil>=2.1 in /usr/lib/python3/dist-packages (from matplotlib) (2.7.3)\n",
      "Requirement already satisfied: numpy>=1.11 in /home/tim/.local/lib/python3.8/site-packages (from matplotlib) (1.18.4)\n",
      "Requirement already satisfied: pyparsing!=2.0.4,!=2.1.2,!=2.1.6,>=2.0.1 in /home/tim/.local/lib/python3.8/site-packages (from matplotlib) (2.4.7)\n",
      "Requirement already satisfied: kiwisolver>=1.0.1 in /home/tim/.local/lib/python3.8/site-packages (from matplotlib) (1.2.0)\n",
      "Requirement already satisfied: six in /usr/lib/python3/dist-packages (from cycler>=0.10->matplotlib) (1.14.0)\n",
      "Collecting twint\n",
      "  Cloning https://github.com/twintproject/twint.git (to revision origin/master) to /tmp/pip-install-u80_cp2e/twint\n",
      "  Running command git clone -q https://github.com/twintproject/twint.git /tmp/pip-install-u80_cp2e/twint\n",
      "\u001b[33m  WARNING: Did not find branch or tag 'origin/master', assuming revision or ref.\u001b[0m\n",
      "  Running command git checkout -q origin/master\n",
      "Requirement already satisfied, skipping upgrade: aiodns in /home/tim/.local/lib/python3.8/site-packages (from twint) (2.0.0)\n",
      "Requirement already satisfied, skipping upgrade: aiohttp in /home/tim/.local/lib/python3.8/site-packages (from twint) (3.6.2)\n",
      "Requirement already satisfied, skipping upgrade: aiohttp_socks in /home/tim/.local/lib/python3.8/site-packages (from twint) (0.3.9)\n",
      "Requirement already satisfied, skipping upgrade: beautifulsoup4 in /home/tim/.local/lib/python3.8/site-packages (from twint) (4.9.1)\n",
      "Requirement already satisfied, skipping upgrade: cchardet in /home/tim/.local/lib/python3.8/site-packages (from twint) (2.1.6)\n",
      "Requirement already satisfied, skipping upgrade: elasticsearch in /home/tim/.local/lib/python3.8/site-packages (from twint) (7.7.1)\n",
      "Requirement already satisfied, skipping upgrade: fake-useragent in /home/tim/.local/lib/python3.8/site-packages (from twint) (0.1.11)\n",
      "Requirement already satisfied, skipping upgrade: geopy in /home/tim/.local/lib/python3.8/site-packages (from twint) (1.22.0)\n",
      "Requirement already satisfied, skipping upgrade: googletransx in /home/tim/.local/lib/python3.8/site-packages (from twint) (2.4.2)\n",
      "Requirement already satisfied, skipping upgrade: pandas in /home/tim/.local/lib/python3.8/site-packages (from twint) (1.0.3)\n",
      "Requirement already satisfied, skipping upgrade: pysocks in /home/tim/.local/lib/python3.8/site-packages (from twint) (1.7.1)\n",
      "Requirement already satisfied, skipping upgrade: schedule in /home/tim/.local/lib/python3.8/site-packages (from twint) (0.6.0)\n",
      "Requirement already satisfied, skipping upgrade: pycares>=3.0.0 in /home/tim/.local/lib/python3.8/site-packages (from aiodns->twint) (3.1.1)\n",
      "Requirement already satisfied, skipping upgrade: multidict<5.0,>=4.5 in /home/tim/.local/lib/python3.8/site-packages (from aiohttp->twint) (4.7.6)\n",
      "Requirement already satisfied, skipping upgrade: async-timeout<4.0,>=3.0 in /home/tim/.local/lib/python3.8/site-packages (from aiohttp->twint) (3.0.1)\n",
      "Requirement already satisfied, skipping upgrade: chardet<4.0,>=2.0 in /usr/lib/python3/dist-packages (from aiohttp->twint) (3.0.4)\n",
      "Requirement already satisfied, skipping upgrade: yarl<2.0,>=1.0 in /home/tim/.local/lib/python3.8/site-packages (from aiohttp->twint) (1.4.2)\n",
      "Requirement already satisfied, skipping upgrade: attrs>=17.3.0 in /home/tim/.local/lib/python3.8/site-packages (from aiohttp->twint) (19.3.0)\n",
      "Requirement already satisfied, skipping upgrade: soupsieve>1.2 in /home/tim/.local/lib/python3.8/site-packages (from beautifulsoup4->twint) (2.0.1)\n",
      "Requirement already satisfied, skipping upgrade: urllib3>=1.21.1 in /usr/lib/python3/dist-packages (from elasticsearch->twint) (1.25.8)\n",
      "Requirement already satisfied, skipping upgrade: certifi in /usr/lib/python3/dist-packages (from elasticsearch->twint) (2019.11.28)\n",
      "Requirement already satisfied, skipping upgrade: geographiclib<2,>=1.49 in /home/tim/.local/lib/python3.8/site-packages (from geopy->twint) (1.50)\n",
      "Requirement already satisfied, skipping upgrade: requests in /usr/lib/python3/dist-packages (from googletransx->twint) (2.22.0)\n",
      "Requirement already satisfied, skipping upgrade: numpy>=1.13.3 in /home/tim/.local/lib/python3.8/site-packages (from pandas->twint) (1.18.4)\n",
      "Requirement already satisfied, skipping upgrade: python-dateutil>=2.6.1 in /usr/lib/python3/dist-packages (from pandas->twint) (2.7.3)\n",
      "Requirement already satisfied, skipping upgrade: pytz>=2017.2 in /usr/lib/python3/dist-packages (from pandas->twint) (2019.3)\n",
      "Requirement already satisfied, skipping upgrade: cffi>=1.5.0 in /home/tim/.local/lib/python3.8/site-packages (from pycares>=3.0.0->aiodns->twint) (1.14.0)\n",
      "Requirement already satisfied, skipping upgrade: idna>=2.0 in /usr/lib/python3/dist-packages (from yarl<2.0,>=1.0->aiohttp->twint) (2.8)\n",
      "Requirement already satisfied, skipping upgrade: pycparser in /home/tim/.local/lib/python3.8/site-packages (from cffi>=1.5.0->pycares>=3.0.0->aiodns->twint) (2.20)\n",
      "Building wheels for collected packages: twint\n",
      "  Building wheel for twint (setup.py) ... \u001b[?25ldone\n",
      "\u001b[?25h  Created wheel for twint: filename=twint-2.1.21-py3-none-any.whl size=35011 sha256=0525584d161392bf096f290a224729ba2da9bd3fe0aab5f5c4b33568a4a96c0e\n",
      "  Stored in directory: /tmp/pip-ephem-wheel-cache-gfpjs_q0/wheels/82/67/14/5495652787d3c55288164de4234c0712a1f785a64f61f1ea70\n",
      "Successfully built twint\n",
      "Installing collected packages: twint\n",
      "  Attempting uninstall: twint\n",
      "    Found existing installation: twint 2.1.21\n",
      "    Uninstalling twint-2.1.21:\n",
      "      Successfully uninstalled twint-2.1.21\n",
      "Successfully installed twint-2.1.21\n",
      "Requirement already satisfied: numpy in /home/tim/.local/lib/python3.8/site-packages (1.18.4)\n",
      "Requirement already satisfied: nest_asyncio in /home/tim/.local/lib/python3.8/site-packages (1.3.3)\n",
      "Requirement already satisfied: networkx in /home/tim/.local/lib/python3.8/site-packages (2.4)\n",
      "Requirement already satisfied: decorator>=4.3.0 in /home/tim/.local/lib/python3.8/site-packages (from networkx) (4.4.2)\n"
     ]
    }
   ],
   "source": [
    "!pip3 install matplotlib\n",
    "!pip3 install --user --upgrade git+https://github.com/twintproject/twint.git@origin/master#egg=twint\n",
    "!pip3 install numpy\n",
    "!pip3 install nest_asyncio\n",
    "!pip3 install networkx"
   ]
  },
  {
   "cell_type": "code",
   "execution_count": 2,
   "metadata": {},
   "outputs": [],
   "source": [
    "import json\n",
    "import twint\n",
    "import nest_asyncio\n",
    "from collections import Counter\n",
    "import pandas as pd\n",
    "pd.set_option('display.max_colwidth', 0)\n",
    "import matplotlib\n",
    "%matplotlib inline\n",
    "matplotlib.rcParams.update({'font.size': 22})\n",
    "import matplotlib.pyplot as plt\n",
    "import numpy as np\n",
    "from itertools import combinations\n",
    "import networkx as nx\n",
    "from pandas import Grouper\n",
    "from pylab import rcParams"
   ]
  },
  {
   "cell_type": "markdown",
   "metadata": {},
   "source": [
    "# File path"
   ]
  },
  {
   "cell_type": "code",
   "execution_count": 3,
   "metadata": {},
   "outputs": [],
   "source": [
    "file_path = \"../data/twint/data_new2.txt\""
   ]
  },
  {
   "cell_type": "markdown",
   "metadata": {},
   "source": [
    "# Read in the tweets"
   ]
  },
  {
   "cell_type": "code",
   "execution_count": 4,
   "metadata": {},
   "outputs": [
    {
     "name": "stdout",
     "output_type": "stream",
     "text": [
      "Total number of tweets: 51853\n"
     ]
    }
   ],
   "source": [
    "tweets = []\n",
    "with open(file_path) as f:\n",
    "    for line in f:\n",
    "        tweet = json.loads(line)\n",
    "        tweets.append(tweet)\n",
    "                                  \n",
    "print(\"Total number of tweets: %d\" % len(tweets))"
   ]
  },
  {
   "cell_type": "code",
   "execution_count": 5,
   "metadata": {},
   "outputs": [],
   "source": [
    "tweets = [t for t in tweets if t['username'] != 'uber4london']"
   ]
  },
  {
   "cell_type": "markdown",
   "metadata": {},
   "source": [
    "## 1. Get most popular Uber-related hashtags"
   ]
  },
  {
   "cell_type": "markdown",
   "metadata": {},
   "source": [
    "### Hashtags and their occurrences"
   ]
  },
  {
   "cell_type": "code",
   "execution_count": 6,
   "metadata": {},
   "outputs": [
    {
     "name": "stdout",
     "output_type": "stream",
     "text": [
      "Total number of tweets: 50413\n",
      "Number of tweets without hashtags: 13\n"
     ]
    },
    {
     "data": {
      "image/png": "[encoded data removed]",
      "text/plain": [
       "<Figure size 1800x720 with 1 Axes>"
      ]
     },
     "metadata": {
      "needs_background": "light"
     },
     "output_type": "display_data"
    },
    {
     "name": "stdout",
     "output_type": "stream",
     "text": [
      "                 count\n",
      "#uber            36380\n",
      "#lyft            14880\n",
      "#uberlyftstrike  3739 \n",
      "#uberipo         3357 \n",
      "#ipo             2452 \n",
      "#rideshare       1623 \n",
      "#uberstrike      1429 \n",
      "#crypto          1307 \n",
      "#ubereats        1256 \n",
      "#np              1249 \n"
     ]
    }
   ],
   "source": [
    "all_hashtags = []\n",
    "hashtag_pairs = []\n",
    "tweets_without_hashtags = []\n",
    "for t in tweets:\n",
    "    hashtags = t['hashtags']\n",
    "    if len(hashtags) == 0:\n",
    "        tweets_without_hashtags.append(t)\n",
    "    pairs = combinations(hashtags, r=2)\n",
    "    for pair in pairs:\n",
    "        hashtag_pairs.append(pair)\n",
    "    for h in hashtags:\n",
    "        all_hashtags.append(h)\n",
    "                                  \n",
    "print(\"Total number of tweets: %d\" % len(tweets))\n",
    "print(\"Number of tweets without hashtags: %d\" % len(tweets_without_hashtags))\n",
    "hashtags_counter = Counter(all_hashtags)\n",
    "hashtag_count_df = pd.DataFrame.from_dict(hashtags_counter, orient='index', columns=['count']).sort_values(by=['count'], ascending=False).head(10)\n",
    "ax = hashtag_count_df.plot(kind='bar', legend=False, title='Hashtag Occurrences', figsize=(25, 10),)\n",
    "ax.set_xlabel('Hashtag')\n",
    "ax.set_ylabel('Occurrences')\n",
    "plt.show()\n",
    "print(hashtag_count_df)"
   ]
  },
  {
   "cell_type": "markdown",
   "metadata": {},
   "source": [
    "### Hashtag co-ocurrences"
   ]
  },
  {
   "cell_type": "code",
   "execution_count": 12,
   "metadata": {},
   "outputs": [
    {
     "name": "stdout",
     "output_type": "stream",
     "text": [
      "{'#lyft': 3, '#ipo': 1, '#np': 3, '#tradewar': 1, '#ubereats': 1, '#xrpcommunity': 1, '#uber': 11, '#rideshare': 1, '#crypto': 3, '#edm': 3}\n"
     ]
    }
   ],
   "source": [
    "pairs_counter = Counter(hashtag_pairs)\n",
    "\n",
    "hashtags_in_most_common_pairs = []\n",
    "for t in pairs_counter.most_common(15):\n",
    "    hashtags_in_most_common_pairs.append(t[0][0])\n",
    "    hashtags_in_most_common_pairs.append(t[0][1])\n",
    "\n",
    "hashtags_in_most_common_pairs = list(set(hashtags_in_most_common_pairs))\n",
    "\n",
    "G = nx.Graph()\n",
    "G.add_nodes_from(hashtags_in_most_common_pairs)\n",
    "G.add_weighted_edges_from([(t[0][0], t[0][1], pairs_counter[t[0]]) for t in pairs_counter.most_common(15)])\n",
    "d = dict(G.degree)\n",
    "print(d)\n",
    "pos = nx.spring_layout(G)\n",
    "labels = nx.get_edge_attributes(G, 'weight')\n",
    "plt.figure(1, figsize=(20, 15))\n",
    "plt.margins(0.1, 0.1)\n",
    "nx.draw_networkx(G,pos, font_weight='bold', node_size=[v * 1800 for v in d.values()], font_color='darkblue', node_color='lightblue', font_size=20)\n",
    "nx.draw_networkx_edge_labels(G, pos, edge_labels=labels, width=40, font_size=15)\n",
    "plt.title('Hashtag Co-occurrences')\n",
    "plt.savefig('hashtag_cooccurences.pdf', bbox_inches='tight')\n",
    "plt.close()"
   ]
  },
  {
   "cell_type": "markdown",
   "metadata": {},
   "source": [
    "## 3. Create their timelines"
   ]
  },
  {
   "cell_type": "code",
   "execution_count": 13,
   "metadata": {},
   "outputs": [],
   "source": [
    "hashtags_dates = {}\n",
    "unique_hashtags = set(all_hashtags)\n",
    "for hashtag in unique_hashtags:\n",
    "    hashtags_dates[hashtag] = {}\n",
    "\n",
    "all_dates = [t['date'] for t in tweets]\n",
    "for d in all_dates:\n",
    "    for h in hashtags_dates.keys():\n",
    "        hashtags_dates[h][d] = 0\n",
    "\n",
    "for t in tweets:\n",
    "    hashtags = t['hashtags']\n",
    "    date = t['date']\n",
    "    for h in hashtags:\n",
    "        count = hashtags_dates[h][date]\n",
    "        if count == 0:\n",
    "            hashtags_dates[h][date] = 1\n",
    "        else:\n",
    "            hashtags_dates[h][date] += 1"
   ]
  },
  {
   "cell_type": "code",
   "execution_count": 20,
   "metadata": {},
   "outputs": [],
   "source": [
    "import matplotlib.pyplot as plt\n",
    "\n",
    "df = pd.DataFrame.from_dict(hashtags_dates, orient='index')\n",
    "df['total'] = df[list(df.columns)].sum(axis=1)\n",
    "df = df.sort_values(by=['total'], ascending=False)\n",
    "\n",
    "top_10 = df.head(10).transpose()[::-1].drop(['total'])\n",
    "top_10 = top_10.transpose()\n",
    "\n",
    "fig, axes = plt.subplots(5, 2, figsize=(25, 13))\n",
    "plt.subplots_adjust(hspace=2, wspace=0.2)\n",
    "fig.suptitle('Hashtag Occurences over Time', fontsize=22)\n",
    "\n",
    "for i in range(5):\n",
    "    row = top_10.iloc[[i]]\n",
    "    ax = row.transpose().plot(ax=axes[i][0], kind='bar', legend=False, fontsize=18)\n",
    "    ax.set_title(row.index[0], fontsize=20)\n",
    "    xlabels = [date.split('-')[2] for date in row.columns]\n",
    "    ax.set_xticklabels(xlabels, fontsize=12)\n",
    "    \n",
    "for i in range(5, 10):\n",
    "    row = top_10.iloc[[i]]\n",
    "    ax = row.transpose().plot(ax=axes[i-5][1], kind='bar', legend=False, fontsize=18)\n",
    "    ax.set_title(row.index[0], fontsize=20)\n",
    "    xlabels = [date.split('-')[2] for date in row.columns]\n",
    "    ax.set_xticklabels(xlabels, fontsize=12)\n",
    "\n",
    "plt.savefig('hashtag_occurence_over_time.pdf', bbox_inches='tight')\n",
    "plt.close()"
   ]
  },
  {
   "cell_type": "code",
   "execution_count": null,
   "metadata": {},
   "outputs": [],
   "source": [
    "ts = [t for t in tweets if '#uk' in t['hashtags']]\n",
    "print(*[t['tweet'] + '\\n' for t in ts])"
   ]
  },
  {
   "cell_type": "markdown",
   "metadata": {},
   "source": [
    "### 4. Look into the most active users"
   ]
  },
  {
   "cell_type": "code",
   "execution_count": null,
   "metadata": {},
   "outputs": [],
   "source": [
    "nest_asyncio.apply()\n",
    "\n",
    "most_active_users_counter = Counter([t['username'] for t in tweets])\n",
    "most_active_users_df = pd.DataFrame.from_dict(most_active_users_counter, orient='index', columns=['tweets']).sort_values(by=['tweets'], ascending=False).head(10)\n",
    "most_active_users_df.plot(kind='bar', legend=False, title='Number of tweets by user', figsize=(10, 5))\n",
    "\n",
    "c = twint.Config()\n",
    "c.Store_object = True\n",
    "c.Hide_output = True\n",
    "twint.output.users_list = []\n",
    "\n",
    "for username in most_active_users_df.index:\n",
    "    c.Username = username\n",
    "    twint.run.Lookup(c)\n",
    "        \n",
    "most_active_users = twint.output.users_list\n",
    "most_active_users_df = pd.DataFrame({'username': [user.username for user in most_active_users],\n",
    "                         'tweets': [most_active_users_counter[user.username.lower()] for user in most_active_users],\n",
    "                         'name': [user.name for user in most_active_users],\n",
    "                         'followers': [user.followers for user in most_active_users],\n",
    "                         'following': [user.following for user in most_active_users],\n",
    "                         'followers/following ratio': [user.followers/user.following for user in most_active_users],\n",
    "                         'bio': [user.bio for user in most_active_users],\n",
    "                         'url': [user.url for user in most_active_users]},\n",
    "                        )\n",
    "most_active_users_df"
   ]
  },
  {
   "cell_type": "markdown",
   "metadata": {},
   "source": [
    "#### 4.1 Look into most retweeted users"
   ]
  },
  {
   "cell_type": "code",
   "execution_count": null,
   "metadata": {},
   "outputs": [],
   "source": [
    "retweets = {}\n",
    "for t in tweets:\n",
    "    retweets_count = t['retweets_count']\n",
    "    username = t['username']\n",
    "    if username in retweets.keys():\n",
    "        retweets[t['username']] += retweets_count\n",
    "    else:\n",
    "        retweets[t['username']] = retweets_count\n",
    "\n",
    "retweets_df = pd.DataFrame.from_dict(retweets, orient='index', columns=['retweeted']).sort_values(by='retweeted', ascending=False).head(10)\n",
    "\n",
    "c = twint.Config()\n",
    "c.Store_object = True\n",
    "c.Hide_output = True\n",
    "users = []\n",
    "twint.output.users_list = []\n",
    "\n",
    "for username in retweets_df.index:\n",
    "    c.Username = username\n",
    "    twint.run.Lookup(c)\n",
    "    \n",
    "most_retweeted_users = twint.output.users_list\n",
    "most_retweeted_users_df = pd.DataFrame({'username': [user.username for user in most_retweeted_users],\n",
    "                         'tweets': [most_active_users_counter[user.username.lower()] for user in most_retweeted_users],\n",
    "                         'retweeted': [retweets[user.username.lower()] for user in most_retweeted_users],\n",
    "                         'name': [user.name for user in most_retweeted_users],\n",
    "                         'followers': [user.followers for user in most_retweeted_users],\n",
    "                         'following': [user.following for user in most_retweeted_users],\n",
    "                         'followers/following ratio': [user.followers/user.following for user in most_retweeted_users],\n",
    "                         'bio': [user.bio for user in most_retweeted_users],\n",
    "                         'url': [user.url for user in most_retweeted_users]},\n",
    "                        )\n",
    "most_retweeted_users_df"
   ]
  },
  {
   "cell_type": "markdown",
   "metadata": {},
   "source": [
    "### 5. Follower network between the most active users"
   ]
  },
  {
   "cell_type": "code",
   "execution_count": null,
   "metadata": {},
   "outputs": [],
   "source": [
    "nest_asyncio.apply()\n",
    "\n",
    "c = twint.Config()\n",
    "c.Store_object = True\n",
    "c.Hide_output = False\n",
    "twint.output.users_list = []\n",
    "\n",
    "user_followers = {u:[] for u in most_active_users}\n",
    "\n",
    "print(len(most_active_users))\n",
    "\n",
    "for user in most_active_users[:1]:\n",
    "    c.Username = user.username\n",
    "    twint.run.Followers(c)\n",
    "    followers = twint.output.users_list\n",
    "    print(followers[:2])\n",
    "    user_followers[user.username] = followers\n",
    "    twint.output.users_list = []\n",
    "    \n",
    "    \n",
    "print(len(user_followers))"
   ]
  },
  {
   "cell_type": "code",
   "execution_count": null,
   "metadata": {},
   "outputs": [],
   "source": []
  }
 ],
 "metadata": {
  "kernelspec": {
   "display_name": "Python 3.8.2 64-bit",
   "language": "python",
   "name": "python38264bit4df60f5f9505484d8ff9ba651e850bad"
  },
  "language_info": {
   "codemirror_mode": {
    "name": "ipython",
    "version": 3
   },
   "file_extension": ".py",
   "mimetype": "text/x-python",
   "name": "python",
   "nbconvert_exporter": "python",
   "pygments_lexer": "ipython3",
   "version": "3.8.2"
  }
 },
 "nbformat": 4,
 "nbformat_minor": 4
}
