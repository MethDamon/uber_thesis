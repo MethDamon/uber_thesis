{
 "cells": [
  {
   "cell_type": "code",
   "execution_count": null,
   "metadata": {},
   "outputs": [],
   "source": [
    "!pip3 install matplotlib\n",
    "!pip3 install --user --upgrade git+https://github.com/twintproject/twint.git@origin/master#egg=twint\n",
    "!pip3 install numpy\n",
    "!pip3 install nest_asyncio\n",
    "!pip3 install networkx"
   ]
  },
  {
   "cell_type": "code",
   "execution_count": 3,
   "metadata": {},
   "outputs": [],
   "source": [
    "import json\n",
    "import twint\n",
    "import nest_asyncio\n",
    "from collections import Counter\n",
    "import pandas as pd\n",
    "pd.set_option('display.max_colwidth', 0)\n",
    "%matplotlib inline\n",
    "import matplotlib.pyplot as plt\n",
    "import numpy as np\n",
    "from itertools import combinations\n",
    "import networkx as nx\n",
    "from pandas import Grouper\n",
    "from pylab import rcParams"
   ]
  },
  {
   "cell_type": "markdown",
   "metadata": {},
   "source": [
    "# File path"
   ]
  },
  {
   "cell_type": "code",
   "execution_count": 4,
   "metadata": {},
   "outputs": [],
   "source": [
    "file_path = \"../data/twint/2019_#uberlyftstrike_april_and_may.txt\""
   ]
  },
  {
   "cell_type": "markdown",
   "metadata": {},
   "source": [
    "# Read in the tweets"
   ]
  },
  {
   "cell_type": "code",
   "execution_count": 5,
   "metadata": {},
   "outputs": [
    {
     "name": "stdout",
     "output_type": "stream",
     "text": [
      "Total number of tweets: 4337\n"
     ]
    }
   ],
   "source": [
    "tweets = []\n",
    "with open(file_path) as f:\n",
    "    for line in f:\n",
    "        tweet = json.loads(line)\n",
    "        tweets.append(tweet)\n",
    "                                  \n",
    "print(\"Total number of tweets: %d\" % len(tweets))"
   ]
  },
  {
   "cell_type": "markdown",
   "metadata": {},
   "source": [
    "## 1. Get most popular Uber-related hashtags"
   ]
  },
  {
   "cell_type": "markdown",
   "metadata": {},
   "source": [
    "### Hashtags and their occurrences"
   ]
  },
  {
   "cell_type": "code",
   "execution_count": 6,
   "metadata": {},
   "outputs": [
    {
     "name": "stdout",
     "output_type": "stream",
     "text": [
      "Total number of tweets: 4337\n",
      "Number of tweets without hashtags: 0\n"
     ]
    },
    {
     "data": {
      "image/png": "[encoded data removed]",
      "text/plain": [
       "<Figure size 1080x360 with 1 Axes>"
      ]
     },
     "metadata": {
      "needs_background": "light"
     },
     "output_type": "display_data"
    }
   ],
   "source": [
    "all_hashtags = []\n",
    "hashtag_pairs = []\n",
    "tweets_without_hashtags = []\n",
    "for t in tweets:\n",
    "    hashtags = t['hashtags']\n",
    "    pairs = combinations(hashtags, r=2)\n",
    "    for pair in pairs:\n",
    "        hashtag_pairs.append(pair)\n",
    "    for h in hashtags:\n",
    "        all_hashtags.append(h)\n",
    "    if len(hashtags) == 0:\n",
    "        tweets_without_hashtags.append(tweet)\n",
    "                                  \n",
    "print(\"Total number of tweets: %d\" % len(tweets))\n",
    "print(\"Number of tweets without hashtags: %d\" % len(tweets_without_hashtags))\n",
    "hashtags_counter = Counter(all_hashtags)\n",
    "hashtag_count_df = pd.DataFrame.from_dict(hashtags_counter, orient='index', columns=['count']).sort_values(by=['count'], ascending=False).head(10)\n",
    "hashtag_count_df.plot(kind='bar', legend=False, title='Hashtag occurrences', figsize=(15, 5))\n",
    "plt.show()"
   ]
  },
  {
   "cell_type": "markdown",
   "metadata": {},
   "source": [
    "### Hashtag co-ocurrences"
   ]
  },
  {
   "cell_type": "code",
   "execution_count": null,
   "metadata": {},
   "outputs": [],
   "source": [
    "pairs_counter = Counter(hashtag_pairs)\n",
    "\n",
    "hashtags_in_most_common_pairs = []\n",
    "for t in pairs_counter.most_common(20):\n",
    "    hashtags_in_most_common_pairs.append(t[0][0])\n",
    "    hashtags_in_most_common_pairs.append(t[0][1])\n",
    "    \n",
    "hashtags_in_most_common_pairs = list(set(hashtags_in_most_common_pairs))\n",
    "\n",
    "G = nx.Graph()\n",
    "G.add_nodes_from(hashtags_in_most_common_pairs)\n",
    "G.add_weighted_edges_from([(t[0][0], t[0][1], pairs_counter[t[0]]) for t in pairs_counter.most_common(20)])\n",
    "pos = nx.spring_layout(G)\n",
    "labels = nx.get_edge_attributes(G, 'weight')\n",
    "plt.figure(1, figsize=(15, 10))\n",
    "nx.draw_networkx(G,pos, font_size=10, font_weight='bold', node_size=800, title='sddf')\n",
    "nx.draw_networkx_edge_labels(G, pos, edge_labels=labels, width=10, font_size=10)\n",
    "plt.title('Hashtag co-occurrences')\n",
    "plt.show()"
   ]
  },
  {
   "cell_type": "markdown",
   "metadata": {},
   "source": [
    "## 3. Create their timelines"
   ]
  },
  {
   "cell_type": "code",
   "execution_count": null,
   "metadata": {},
   "outputs": [],
   "source": [
    "hashtags_dates = {}\n",
    "unique_hashtags = set(all_hashtags)\n",
    "for hashtag in unique_hashtags:\n",
    "    hashtags_dates[hashtag] = {}\n",
    "\n",
    "all_dates = [t['date'] for t in tweets]\n",
    "for d in all_dates:\n",
    "    for h in hashtags_dates.keys():\n",
    "        hashtags_dates[h][d] = 0\n",
    "\n",
    "for t in tweets:\n",
    "    hashtags = t['hashtags']\n",
    "    date = t['date']\n",
    "    for h in hashtags:\n",
    "        count = hashtags_dates[h][date]\n",
    "        if count == 0:\n",
    "            hashtags_dates[h][date] = 1\n",
    "        else:\n",
    "            hashtags_dates[h][date] += 1\n",
    "            \n",
    "# Plot\n",
    "\n",
    "rcParams['figure.figsize'] = 20, 20\n",
    "\n",
    "df = pd.DataFrame.from_dict(hashtags_dates, orient='index')\n",
    "df['total'] = df[list(df.columns)].sum(axis=1)\n",
    "df = df.sort_values(by=['total'], ascending=False)\n",
    "\n",
    "top_10 = df.head(10).transpose()[::-1].drop(['total'])\n",
    "top_10\n",
    "top_10.plot(subplots=True, kind='bar')\n",
    "plt.show()"
   ]
  },
  {
   "cell_type": "markdown",
   "metadata": {},
   "source": [
    "### 4. Look into the most active users"
   ]
  },
  {
   "cell_type": "code",
   "execution_count": null,
   "metadata": {},
   "outputs": [],
   "source": [
    "nest_asyncio.apply()\n",
    "\n",
    "most_active_users_counter = Counter([t['username'] for t in tweets])\n",
    "most_active_users_df = pd.DataFrame.from_dict(most_active_users_counter, orient='index', columns=['tweets']).sort_values(by=['tweets'], ascending=False).head(10)\n",
    "most_active_users_df.plot(kind='bar', legend=False, title='Number of tweets by user', figsize=(10, 5))\n",
    "\n",
    "c = twint.Config()\n",
    "c.Store_object = True\n",
    "c.Hide_output = True\n",
    "twint.output.users_list = []\n",
    "\n",
    "for username in most_active_users_df.index:\n",
    "    c.Username = username\n",
    "    twint.run.Lookup(c)\n",
    "        \n",
    "most_active_users = twint.output.users_list\n",
    "most_active_users_df = pd.DataFrame({'username': [user.username for user in most_active_users],\n",
    "                         'tweets': [most_active_users_counter[user.username.lower()] for user in most_active_users],\n",
    "                         'name': [user.name for user in most_active_users],\n",
    "                         'followers': [user.followers for user in most_active_users],\n",
    "                         'following': [user.following for user in most_active_users],\n",
    "                         'followers/following ratio': [user.followers/user.following for user in most_active_users],\n",
    "                         'bio': [user.bio for user in most_active_users],\n",
    "                         'url': [user.url for user in most_active_users]},\n",
    "                        )\n",
    "most_active_users_df"
   ]
  },
  {
   "cell_type": "markdown",
   "metadata": {},
   "source": [
    "#### 4.1 Look into most retweeted users"
   ]
  },
  {
   "cell_type": "code",
   "execution_count": null,
   "metadata": {},
   "outputs": [],
   "source": [
    "retweets = {}\n",
    "for t in tweets:\n",
    "    retweets_count = t['retweets_count']\n",
    "    username = t['username']\n",
    "    if username in retweets.keys():\n",
    "        retweets[t['username']] += retweets_count\n",
    "    else:\n",
    "        retweets[t['username']] = retweets_count\n",
    "\n",
    "retweets_df = pd.DataFrame.from_dict(retweets, orient='index', columns=['retweeted']).sort_values(by='retweeted', ascending=False).head(10)\n",
    "\n",
    "c = twint.Config()\n",
    "c.Store_object = True\n",
    "c.Hide_output = True\n",
    "users = []\n",
    "twint.output.users_list = []\n",
    "\n",
    "for username in retweets_df.index:\n",
    "    c.Username = username\n",
    "    twint.run.Lookup(c)\n",
    "    \n",
    "most_retweeted_users = twint.output.users_list\n",
    "most_retweeted_users_df = pd.DataFrame({'username': [user.username for user in most_retweeted_users],\n",
    "                         'tweets': [most_active_users_counter[user.username.lower()] for user in most_retweeted_users],\n",
    "                         'retweeted': [retweets[user.username.lower()] for user in most_retweeted_users],\n",
    "                         'name': [user.name for user in most_retweeted_users],\n",
    "                         'followers': [user.followers for user in most_retweeted_users],\n",
    "                         'following': [user.following for user in most_retweeted_users],\n",
    "                         'followers/following ratio': [user.followers/user.following for user in most_retweeted_users],\n",
    "                         'bio': [user.bio for user in most_retweeted_users],\n",
    "                         'url': [user.url for user in most_retweeted_users]},\n",
    "                        )\n",
    "most_retweeted_users_df"
   ]
  },
  {
   "cell_type": "markdown",
   "metadata": {},
   "source": [
    "### 5. Follower network between the most active users"
   ]
  },
  {
   "cell_type": "code",
   "execution_count": null,
   "metadata": {},
   "outputs": [],
   "source": [
    "nest_asyncio.apply()\n",
    "\n",
    "c = twint.Config()\n",
    "c.Store_object = True\n",
    "c.Hide_output = False\n",
    "twint.output.users_list = []\n",
    "\n",
    "user_followers = {u:[] for u in most_active_users}\n",
    "\n",
    "print(len(most_active_users))\n",
    "\n",
    "for user in most_active_users[:1]:\n",
    "    c.Username = user.username\n",
    "    twint.run.Followers(c)\n",
    "    followers = twint.output.users_list\n",
    "    print(followers[:2])\n",
    "    user_followers[user.username] = followers\n",
    "    twint.output.users_list = []\n",
    "    \n",
    "    \n",
    "print(len(user_followers))"
   ]
  },
  {
   "cell_type": "code",
   "execution_count": null,
   "metadata": {},
   "outputs": [],
   "source": []
  }
 ],
 "metadata": {
  "kernelspec": {
   "display_name": "Python 3.8.2 64-bit",
   "language": "python",
   "name": "python38264bit4df60f5f9505484d8ff9ba651e850bad"
  },
  "language_info": {
   "codemirror_mode": {
    "name": "ipython",
    "version": 3
   },
   "file_extension": ".py",
   "mimetype": "text/x-python",
   "name": "python",
   "nbconvert_exporter": "python",
   "pygments_lexer": "ipython3",
   "version": "3.8.2"
  }
 },
 "nbformat": 4,
 "nbformat_minor": 4
}
