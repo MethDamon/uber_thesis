{
 "cells": [
  {
   "cell_type": "code",
   "execution_count": 1,
   "metadata": {},
   "outputs": [
    {
     "name": "stdout",
     "output_type": "stream",
     "text": [
      "Requirement already satisfied: matplotlib in /home/tim/.local/lib/python3.8/site-packages (3.2.1)\n",
      "Requirement already satisfied: python-dateutil>=2.1 in /usr/lib/python3/dist-packages (from matplotlib) (2.7.3)\n",
      "Requirement already satisfied: cycler>=0.10 in /home/tim/.local/lib/python3.8/site-packages (from matplotlib) (0.10.0)\n",
      "Requirement already satisfied: kiwisolver>=1.0.1 in /home/tim/.local/lib/python3.8/site-packages (from matplotlib) (1.2.0)\n",
      "Requirement already satisfied: numpy>=1.11 in /home/tim/.local/lib/python3.8/site-packages (from matplotlib) (1.18.4)\n",
      "Requirement already satisfied: pyparsing!=2.0.4,!=2.1.2,!=2.1.6,>=2.0.1 in /home/tim/.local/lib/python3.8/site-packages (from matplotlib) (2.4.7)\n",
      "Requirement already satisfied: six in /usr/lib/python3/dist-packages (from cycler>=0.10->matplotlib) (1.14.0)\n",
      "Collecting twint\n",
      "  Cloning https://github.com/twintproject/twint.git (to revision origin/master) to /tmp/pip-install-lg78xv_m/twint\n",
      "  Running command git clone -q https://github.com/twintproject/twint.git /tmp/pip-install-lg78xv_m/twint\n",
      "\u001b[33m  WARNING: Did not find branch or tag 'origin/master', assuming revision or ref.\u001b[0m\n",
      "  Running command git checkout -q origin/master\n",
      "Requirement already satisfied, skipping upgrade: aiodns in /home/tim/.local/lib/python3.8/site-packages (from twint) (2.0.0)\n",
      "Requirement already satisfied, skipping upgrade: aiohttp in /home/tim/.local/lib/python3.8/site-packages (from twint) (3.6.2)\n",
      "Requirement already satisfied, skipping upgrade: aiohttp_socks in /home/tim/.local/lib/python3.8/site-packages (from twint) (0.3.9)\n",
      "Requirement already satisfied, skipping upgrade: beautifulsoup4 in /home/tim/.local/lib/python3.8/site-packages (from twint) (4.9.1)\n",
      "Requirement already satisfied, skipping upgrade: cchardet in /home/tim/.local/lib/python3.8/site-packages (from twint) (2.1.6)\n",
      "Requirement already satisfied, skipping upgrade: elasticsearch in /home/tim/.local/lib/python3.8/site-packages (from twint) (7.7.1)\n",
      "Requirement already satisfied, skipping upgrade: fake-useragent in /home/tim/.local/lib/python3.8/site-packages (from twint) (0.1.11)\n",
      "Requirement already satisfied, skipping upgrade: geopy in /home/tim/.local/lib/python3.8/site-packages (from twint) (1.22.0)\n",
      "Requirement already satisfied, skipping upgrade: googletransx in /home/tim/.local/lib/python3.8/site-packages (from twint) (2.4.2)\n",
      "Requirement already satisfied, skipping upgrade: pandas in /home/tim/.local/lib/python3.8/site-packages (from twint) (1.0.3)\n",
      "Requirement already satisfied, skipping upgrade: pysocks in /home/tim/.local/lib/python3.8/site-packages (from twint) (1.7.1)\n",
      "Requirement already satisfied, skipping upgrade: schedule in /home/tim/.local/lib/python3.8/site-packages (from twint) (0.6.0)\n",
      "Requirement already satisfied, skipping upgrade: pycares>=3.0.0 in /home/tim/.local/lib/python3.8/site-packages (from aiodns->twint) (3.1.1)\n",
      "Requirement already satisfied, skipping upgrade: yarl<2.0,>=1.0 in /home/tim/.local/lib/python3.8/site-packages (from aiohttp->twint) (1.4.2)\n",
      "Requirement already satisfied, skipping upgrade: async-timeout<4.0,>=3.0 in /home/tim/.local/lib/python3.8/site-packages (from aiohttp->twint) (3.0.1)\n",
      "Requirement already satisfied, skipping upgrade: attrs>=17.3.0 in /home/tim/.local/lib/python3.8/site-packages (from aiohttp->twint) (19.3.0)\n",
      "Requirement already satisfied, skipping upgrade: chardet<4.0,>=2.0 in /usr/lib/python3/dist-packages (from aiohttp->twint) (3.0.4)\n",
      "Requirement already satisfied, skipping upgrade: multidict<5.0,>=4.5 in /home/tim/.local/lib/python3.8/site-packages (from aiohttp->twint) (4.7.6)\n",
      "Requirement already satisfied, skipping upgrade: soupsieve>1.2 in /home/tim/.local/lib/python3.8/site-packages (from beautifulsoup4->twint) (2.0.1)\n",
      "Requirement already satisfied, skipping upgrade: urllib3>=1.21.1 in /usr/lib/python3/dist-packages (from elasticsearch->twint) (1.25.8)\n",
      "Requirement already satisfied, skipping upgrade: certifi in /usr/lib/python3/dist-packages (from elasticsearch->twint) (2019.11.28)\n",
      "Requirement already satisfied, skipping upgrade: geographiclib<2,>=1.49 in /home/tim/.local/lib/python3.8/site-packages (from geopy->twint) (1.50)\n",
      "Requirement already satisfied, skipping upgrade: requests in /usr/lib/python3/dist-packages (from googletransx->twint) (2.22.0)\n",
      "Requirement already satisfied, skipping upgrade: numpy>=1.13.3 in /home/tim/.local/lib/python3.8/site-packages (from pandas->twint) (1.18.4)\n",
      "Requirement already satisfied, skipping upgrade: python-dateutil>=2.6.1 in /usr/lib/python3/dist-packages (from pandas->twint) (2.7.3)\n",
      "Requirement already satisfied, skipping upgrade: pytz>=2017.2 in /usr/lib/python3/dist-packages (from pandas->twint) (2019.3)\n",
      "Requirement already satisfied, skipping upgrade: cffi>=1.5.0 in /home/tim/.local/lib/python3.8/site-packages (from pycares>=3.0.0->aiodns->twint) (1.14.0)\n",
      "Requirement already satisfied, skipping upgrade: idna>=2.0 in /usr/lib/python3/dist-packages (from yarl<2.0,>=1.0->aiohttp->twint) (2.8)\n",
      "Requirement already satisfied, skipping upgrade: pycparser in /home/tim/.local/lib/python3.8/site-packages (from cffi>=1.5.0->pycares>=3.0.0->aiodns->twint) (2.20)\n",
      "Building wheels for collected packages: twint\n",
      "  Building wheel for twint (setup.py) ... \u001b[?25ldone\n",
      "\u001b[?25h  Created wheel for twint: filename=twint-2.1.21-py3-none-any.whl size=34973 sha256=2f896fc48c1947f4582b4a7ef6dbf43f524642f9e632645b1287f5b91eb55da5\n",
      "  Stored in directory: /tmp/pip-ephem-wheel-cache-d1fbo27z/wheels/82/67/14/5495652787d3c55288164de4234c0712a1f785a64f61f1ea70\n",
      "Successfully built twint\n",
      "Installing collected packages: twint\n",
      "  Attempting uninstall: twint\n",
      "    Found existing installation: twint 2.1.20\n",
      "    Uninstalling twint-2.1.20:\n",
      "      Successfully uninstalled twint-2.1.20\n",
      "Successfully installed twint-2.1.21\n",
      "Requirement already satisfied: numpy in /home/tim/.local/lib/python3.8/site-packages (1.18.4)\n",
      "Requirement already satisfied: nest_asyncio in /home/tim/.local/lib/python3.8/site-packages (1.3.3)\n",
      "Requirement already satisfied: networkx in /home/tim/.local/lib/python3.8/site-packages (2.4)\n",
      "Requirement already satisfied: decorator>=4.3.0 in /home/tim/.local/lib/python3.8/site-packages (from networkx) (4.4.2)\n"
     ]
    }
   ],
   "source": [
    "!pip3 install matplotlib\n",
    "!pip3 install --user --upgrade git+https://github.com/twintproject/twint.git@origin/master#egg=twint\n",
    "!pip3 install numpy\n",
    "!pip3 install nest_asyncio\n",
    "!pip3 install networkx"
   ]
  },
  {
   "cell_type": "code",
   "execution_count": 2,
   "metadata": {},
   "outputs": [],
   "source": [
    "import json\n",
    "import twint\n",
    "import nest_asyncio\n",
    "from collections import Counter\n",
    "import pandas as pd\n",
    "pd.set_option('display.max_colwidth', 0)\n",
    "%matplotlib inline\n",
    "import matplotlib.pyplot as plt\n",
    "import numpy as np\n",
    "from itertools import combinations\n",
    "import networkx as nx\n",
    "from pandas import Grouper\n",
    "from pylab import rcParams"
   ]
  },
  {
   "cell_type": "markdown",
   "metadata": {},
   "source": [
    "# File path"
   ]
  },
  {
   "cell_type": "code",
   "execution_count": 3,
   "metadata": {},
   "outputs": [],
   "source": [
    "file_path = \"../data/twint/2019_#uberlyftstrike_april_and_may.txt\""
   ]
  },
  {
   "cell_type": "markdown",
   "metadata": {},
   "source": [
    "# Read in the tweets"
   ]
  },
  {
   "cell_type": "code",
   "execution_count": 4,
   "metadata": {},
   "outputs": [
    {
     "name": "stdout",
     "output_type": "stream",
     "text": [
      "Total number of tweets: 4337\n"
     ]
    }
   ],
   "source": [
    "tweets = []\n",
    "with open(file_path) as f:\n",
    "    for line in f:\n",
    "        tweet = json.loads(line)\n",
    "        tweets.append(tweet)\n",
    "                                  \n",
    "print(\"Total number of tweets: %d\" % len(tweets))"
   ]
  },
  {
   "cell_type": "markdown",
   "metadata": {},
   "source": [
    "## 1. Get most popular Uber-related hashtags"
   ]
  },
  {
   "cell_type": "markdown",
   "metadata": {},
   "source": [
    "### Hashtags and their occurrences"
   ]
  },
  {
   "cell_type": "code",
   "execution_count": 5,
   "metadata": {},
   "outputs": [
    {
     "name": "stdout",
     "output_type": "stream",
     "text": [
      "Total number of tweets: 4337\n",
      "Number of tweets without hashtags: 0\n"
     ]
    },
    {
     "data": {
      "image/png": "[encoded data removed]",
      "text/plain": [
       "<Figure size 1080x360 with 1 Axes>"
      ]
     },
     "metadata": {
      "needs_background": "light"
     },
     "output_type": "display_data"
    }
   ],
   "source": [
    "all_hashtags = []\n",
    "hashtag_pairs = []\n",
    "tweets_without_hashtags = []\n",
    "for t in tweets:\n",
    "    hashtags = t['hashtags']\n",
    "    pairs = combinations(hashtags, r=2)\n",
    "    for pair in pairs:\n",
    "        hashtag_pairs.append(pair)\n",
    "    for h in hashtags:\n",
    "        all_hashtags.append(h)\n",
    "    if len(hashtags) == 0:\n",
    "        tweets_without_hashtags.append(tweet)\n",
    "                                  \n",
    "print(\"Total number of tweets: %d\" % len(tweets))\n",
    "print(\"Number of tweets without hashtags: %d\" % len(tweets_without_hashtags))\n",
    "hashtags_counter = Counter(all_hashtags)\n",
    "hashtag_count_df = pd.DataFrame.from_dict(hashtags_counter, orient='index', columns=['count']).sort_values(by=['count'], ascending=False).head(10)\n",
    "hashtag_count_df.plot(kind='bar', legend=False, title='Hashtag occurrences', figsize=(15, 5))\n",
    "plt.show()"
   ]
  },
  {
   "cell_type": "markdown",
   "metadata": {},
   "source": [
    "### Hashtag co-ocurrences"
   ]
  },
  {
   "cell_type": "code",
   "execution_count": null,
   "metadata": {},
   "outputs": [],
   "source": [
    "pairs_counter = Counter(hashtag_pairs)\n",
    "\n",
    "hashtags_in_most_common_pairs = []\n",
    "for t in pairs_counter.most_common(20):\n",
    "    hashtags_in_most_common_pairs.append(t[0][0])\n",
    "    hashtags_in_most_common_pairs.append(t[0][1])\n",
    "    \n",
    "hashtags_in_most_common_pairs = list(set(hashtags_in_most_common_pairs))\n",
    "\n",
    "G = nx.Graph()\n",
    "G.add_nodes_from(hashtags_in_most_common_pairs)\n",
    "G.add_weighted_edges_from([(t[0][0], t[0][1], pairs_counter[t[0]]) for t in pairs_counter.most_common(20)])\n",
    "pos = nx.spring_layout(G)\n",
    "labels = nx.get_edge_attributes(G, 'weight')\n",
    "plt.figure(1, figsize=(15, 10))\n",
    "nx.draw_networkx(G,pos, font_size=10, font_weight='bold', node_size=800, title='sddf')\n",
    "nx.draw_networkx_edge_labels(G, pos, edge_labels=labels, width=10, font_size=10)\n",
    "plt.title('Hashtag co-occurrences')\n",
    "plt.show()"
   ]
  },
  {
   "cell_type": "markdown",
   "metadata": {},
   "source": [
    "## 3. Create their timelines"
   ]
  },
  {
   "cell_type": "code",
   "execution_count": null,
   "metadata": {},
   "outputs": [],
   "source": [
    "hashtags_dates = {}\n",
    "unique_hashtags = set(all_hashtags)\n",
    "for hashtag in unique_hashtags:\n",
    "    hashtags_dates[hashtag] = {}\n",
    "\n",
    "all_dates = [t['date'] for t in tweets]\n",
    "for d in all_dates:\n",
    "    for h in hashtags_dates.keys():\n",
    "        hashtags_dates[h][d] = 0\n",
    "\n",
    "for t in tweets:\n",
    "    hashtags = t['hashtags']\n",
    "    date = t['date']\n",
    "    for h in hashtags:\n",
    "        count = hashtags_dates[h][date]\n",
    "        if count == 0:\n",
    "            hashtags_dates[h][date] = 1\n",
    "        else:\n",
    "            hashtags_dates[h][date] += 1\n",
    "            \n",
    "# Plot\n",
    "\n",
    "rcParams['figure.figsize'] = 20, 20\n",
    "\n",
    "df = pd.DataFrame.from_dict(hashtags_dates, orient='index')\n",
    "df['total'] = df[list(df.columns)].sum(axis=1)\n",
    "df = df.sort_values(by=['total'], ascending=False)\n",
    "\n",
    "top_10 = df.head(10).transpose()[::-1].drop(['total'])\n",
    "top_10\n",
    "top_10.plot(subplots=True, kind='bar')\n",
    "plt.show()"
   ]
  },
  {
   "cell_type": "markdown",
   "metadata": {},
   "source": [
    "### 4. Look into the most active users"
   ]
  },
  {
   "cell_type": "code",
   "execution_count": 11,
   "metadata": {},
   "outputs": [
    {
     "data": {
      "text/html": [
       "<div>\n",
       "<style scoped>\n",
       "    .dataframe tbody tr th:only-of-type {\n",
       "        vertical-align: middle;\n",
       "    }\n",
       "\n",
       "    .dataframe tbody tr th {\n",
       "        vertical-align: top;\n",
       "    }\n",
       "\n",
       "    .dataframe thead th {\n",
       "        text-align: right;\n",
       "    }\n",
       "</style>\n",
       "<table border=\"1\" class=\"dataframe\">\n",
       "  <thead>\n",
       "    <tr style=\"text-align: right;\">\n",
       "      <th></th>\n",
       "      <th>username</th>\n",
       "      <th>tweets</th>\n",
       "      <th>name</th>\n",
       "      <th>followers</th>\n",
       "      <th>following</th>\n",
       "      <th>followers/following ratio</th>\n",
       "      <th>bio</th>\n",
       "      <th>url</th>\n",
       "    </tr>\n",
       "  </thead>\n",
       "  <tbody>\n",
       "    <tr>\n",
       "      <th>0</th>\n",
       "      <td>davecraige</td>\n",
       "      <td>110</td>\n",
       "      <td>Dave Craige ⚡️</td>\n",
       "      <td>7768</td>\n",
       "      <td>6483</td>\n",
       "      <td>1.198211</td>\n",
       "      <td>🔨 Building @TheStudio_io, @Help_Hospitals &amp; @HelpEcuador_ . Be Kind. ✉️ http://Dave.Substack.com  ▶️ http://Youtube.com/DaveCraige .</td>\n",
       "      <td>http://TheStudio.io/Discord</td>\n",
       "    </tr>\n",
       "    <tr>\n",
       "      <th>1</th>\n",
       "      <td>GrowYourBusine9</td>\n",
       "      <td>55</td>\n",
       "      <td>Grow Your Business Online</td>\n",
       "      <td>14</td>\n",
       "      <td>136</td>\n",
       "      <td>0.102941</td>\n",
       "      <td></td>\n",
       "      <td></td>\n",
       "    </tr>\n",
       "    <tr>\n",
       "      <th>2</th>\n",
       "      <td>JennyHatch</td>\n",
       "      <td>23</td>\n",
       "      <td>Jenny Marie Hatch 🇺🇸</td>\n",
       "      <td>2496</td>\n",
       "      <td>17</td>\n",
       "      <td>146.823529</td>\n",
       "      <td>Blogging Mama Singing and Dancing in my Kitchen...</td>\n",
       "      <td>http://JennyHatch.com</td>\n",
       "    </tr>\n",
       "    <tr>\n",
       "      <th>3</th>\n",
       "      <td>nurseryrhme</td>\n",
       "      <td>23</td>\n",
       "      <td>Carol slocum</td>\n",
       "      <td>1234</td>\n",
       "      <td>2201</td>\n",
       "      <td>0.560654</td>\n",
       "      <td></td>\n",
       "      <td></td>\n",
       "    </tr>\n",
       "    <tr>\n",
       "      <th>4</th>\n",
       "      <td>tucknrolltrades</td>\n",
       "      <td>20</td>\n",
       "      <td>tucknrolltrades</td>\n",
       "      <td>362</td>\n",
       "      <td>1791</td>\n",
       "      <td>0.202122</td>\n",
       "      <td>Freedom maximalist. All tweets are my opinion and are prolly not be taken as financial advice.</td>\n",
       "      <td></td>\n",
       "    </tr>\n",
       "    <tr>\n",
       "      <th>5</th>\n",
       "      <td>Mondiablue</td>\n",
       "      <td>17</td>\n",
       "      <td>MONDIA BLUE</td>\n",
       "      <td>9437</td>\n",
       "      <td>7578</td>\n",
       "      <td>1.245315</td>\n",
       "      <td>I AM VOTING GREEN PARTY!!! AJAMU BARAKA FOR PRESIDENT  $mondiablue</td>\n",
       "      <td></td>\n",
       "    </tr>\n",
       "    <tr>\n",
       "      <th>6</th>\n",
       "      <td>SarahBelleLin</td>\n",
       "      <td>17</td>\n",
       "      <td>Sarah Belle Lin</td>\n",
       "      <td>2756</td>\n",
       "      <td>1671</td>\n",
       "      <td>1.649312</td>\n",
       "      <td>Bay Area-Based Community Reporter/Photographer. I'm on Signal and ProtonMail. Message me for my contact info.</td>\n",
       "      <td>https://sarahbelle909.journoportfolio.com</td>\n",
       "    </tr>\n",
       "    <tr>\n",
       "      <th>7</th>\n",
       "      <td>DeanDettloff</td>\n",
       "      <td>14</td>\n",
       "      <td>Dean Dettloff</td>\n",
       "      <td>4421</td>\n",
       "      <td>1611</td>\n",
       "      <td>2.744258</td>\n",
       "      <td>Sessional Lecturer @InsChr - Philosophy/Marxism/Media - Catholic - Co-Host @TheMagnificast - Writing in @americamag @sojourners @commonwealmag @GeezMagazine etc</td>\n",
       "      <td>http://deandettloff.com</td>\n",
       "    </tr>\n",
       "    <tr>\n",
       "      <th>8</th>\n",
       "      <td>FitzTheReporter</td>\n",
       "      <td>14</td>\n",
       "      <td>Joe Fitzgerald Rodriguez</td>\n",
       "      <td>16298</td>\n",
       "      <td>5715</td>\n",
       "      <td>2.851794</td>\n",
       "      <td>#SF raised. KQED Producer/Reporter, @SPJ_NorCal VP, reporting the hell out of my dear, foggy City.   jrodriguez@kqed.org / 88.5 FM / DM for Signal info</td>\n",
       "      <td>http://www.KQED.org</td>\n",
       "    </tr>\n",
       "    <tr>\n",
       "      <th>9</th>\n",
       "      <td>carbonederigau</td>\n",
       "      <td>14</td>\n",
       "      <td>La Acera</td>\n",
       "      <td>766</td>\n",
       "      <td>645</td>\n",
       "      <td>1.187597</td>\n",
       "      <td></td>\n",
       "      <td></td>\n",
       "    </tr>\n",
       "  </tbody>\n",
       "</table>\n",
       "</div>"
      ],
      "text/plain": [
       "          username  tweets                       name  followers  following  \\\n",
       "0  davecraige       110     Dave Craige ⚡️             7768       6483        \n",
       "1  GrowYourBusine9  55      Grow Your Business Online  14         136         \n",
       "2  JennyHatch       23      Jenny Marie Hatch 🇺🇸       2496       17          \n",
       "3  nurseryrhme      23      Carol slocum               1234       2201        \n",
       "4  tucknrolltrades  20      tucknrolltrades            362        1791        \n",
       "5  Mondiablue       17      MONDIA BLUE                9437       7578        \n",
       "6  SarahBelleLin    17      Sarah Belle Lin            2756       1671        \n",
       "7  DeanDettloff     14      Dean Dettloff              4421       1611        \n",
       "8  FitzTheReporter  14      Joe Fitzgerald Rodriguez   16298      5715        \n",
       "9  carbonederigau   14      La Acera                   766        645         \n",
       "\n",
       "   followers/following ratio  \\\n",
       "0  1.198211                    \n",
       "1  0.102941                    \n",
       "2  146.823529                  \n",
       "3  0.560654                    \n",
       "4  0.202122                    \n",
       "5  1.245315                    \n",
       "6  1.649312                    \n",
       "7  2.744258                    \n",
       "8  2.851794                    \n",
       "9  1.187597                    \n",
       "\n",
       "                                                                                                                                                                bio  \\\n",
       "0  🔨 Building @TheStudio_io, @Help_Hospitals & @HelpEcuador_ . Be Kind. ✉️ http://Dave.Substack.com  ▶️ http://Youtube.com/DaveCraige .                               \n",
       "1                                                                                                                                                                     \n",
       "2  Blogging Mama Singing and Dancing in my Kitchen...                                                                                                                 \n",
       "3                                                                                                                                                                     \n",
       "4  Freedom maximalist. All tweets are my opinion and are prolly not be taken as financial advice.                                                                     \n",
       "5  I AM VOTING GREEN PARTY!!! AJAMU BARAKA FOR PRESIDENT  $mondiablue                                                                                                 \n",
       "6  Bay Area-Based Community Reporter/Photographer. I'm on Signal and ProtonMail. Message me for my contact info.                                                      \n",
       "7  Sessional Lecturer @InsChr - Philosophy/Marxism/Media - Catholic - Co-Host @TheMagnificast - Writing in @americamag @sojourners @commonwealmag @GeezMagazine etc   \n",
       "8  #SF raised. KQED Producer/Reporter, @SPJ_NorCal VP, reporting the hell out of my dear, foggy City.   jrodriguez@kqed.org / 88.5 FM / DM for Signal info            \n",
       "9                                                                                                                                                                     \n",
       "\n",
       "                                         url  \n",
       "0  http://TheStudio.io/Discord                \n",
       "1                                             \n",
       "2  http://JennyHatch.com                      \n",
       "3                                             \n",
       "4                                             \n",
       "5                                             \n",
       "6  https://sarahbelle909.journoportfolio.com  \n",
       "7  http://deandettloff.com                    \n",
       "8  http://www.KQED.org                        \n",
       "9                                             "
      ]
     },
     "execution_count": 11,
     "metadata": {},
     "output_type": "execute_result"
    },
    {
     "data": {
      "image/png": "[encoded data removed]",
      "text/plain": [
       "<Figure size 720x360 with 1 Axes>"
      ]
     },
     "metadata": {
      "needs_background": "light"
     },
     "output_type": "display_data"
    }
   ],
   "source": [
    "nest_asyncio.apply()\n",
    "\n",
    "most_active_users_counter = Counter([t['username'] for t in tweets])\n",
    "most_active_users_df = pd.DataFrame.from_dict(most_active_users_counter, orient='index', columns=['tweets']).sort_values(by=['tweets'], ascending=False).head(10)\n",
    "most_active_users_df.plot(kind='bar', legend=False, title='Number of tweets by user', figsize=(10, 5))\n",
    "\n",
    "c = twint.Config()\n",
    "c.Store_object = True\n",
    "c.Hide_output = True\n",
    "twint.output.users_list = []\n",
    "\n",
    "for username in most_active_users_df.index:\n",
    "    c.Username = username\n",
    "    twint.run.Lookup(c)\n",
    "        \n",
    "most_active_users = twint.output.users_list\n",
    "most_active_users_df = pd.DataFrame({'username': [user.username for user in most_active_users],\n",
    "                         'tweets': [most_active_users_counter[user.username.lower()] for user in most_active_users],\n",
    "                         'name': [user.name for user in most_active_users],\n",
    "                         'followers': [user.followers for user in most_active_users],\n",
    "                         'following': [user.following for user in most_active_users],\n",
    "                         'followers/following ratio': [user.followers/user.following for user in most_active_users],\n",
    "                         'bio': [user.bio for user in most_active_users],\n",
    "                         'url': [user.url for user in most_active_users]},\n",
    "                        )\n",
    "most_active_users_df"
   ]
  },
  {
   "cell_type": "markdown",
   "metadata": {},
   "source": [
    "#### 4.1 Look into most retweeted users"
   ]
  },
  {
   "cell_type": "code",
   "execution_count": null,
   "metadata": {},
   "outputs": [],
   "source": [
    "retweets = {}\n",
    "for t in tweets:\n",
    "    retweets_count = t['retweets_count']\n",
    "    username = t['username']\n",
    "    if username in retweets.keys():\n",
    "        retweets[t['username']] += retweets_count\n",
    "    else:\n",
    "        retweets[t['username']] = retweets_count\n",
    "\n",
    "retweets_df = pd.DataFrame.from_dict(retweets, orient='index', columns=['retweeted']).sort_values(by='retweeted', ascending=False).head(10)\n",
    "\n",
    "c = twint.Config()\n",
    "c.Store_object = True\n",
    "c.Hide_output = True\n",
    "users = []\n",
    "twint.output.users_list = []\n",
    "\n",
    "for username in retweets_df.index:\n",
    "    c.Username = username\n",
    "    twint.run.Lookup(c)\n",
    "    \n",
    "most_retweeted_users = twint.output.users_list\n",
    "most_retweeted_users_df = pd.DataFrame({'username': [user.username for user in most_retweeted_users],\n",
    "                         'tweets': [most_active_users_counter[user.username.lower()] for user in most_retweeted_users],\n",
    "                         'retweeted': [retweets[user.username.lower()] for user in most_retweeted_users],\n",
    "                         'name': [user.name for user in most_retweeted_users],\n",
    "                         'followers': [user.followers for user in most_retweeted_users],\n",
    "                         'following': [user.following for user in most_retweeted_users],\n",
    "                         'followers/following ratio': [user.followers/user.following for user in most_retweeted_users],\n",
    "                         'bio': [user.bio for user in most_retweeted_users],\n",
    "                         'url': [user.url for user in most_retweeted_users]},\n",
    "                        )\n",
    "most_retweeted_users_df"
   ]
  },
  {
   "cell_type": "markdown",
   "metadata": {},
   "source": [
    "### 5. Follower network between the most active users"
   ]
  },
  {
   "cell_type": "code",
   "execution_count": null,
   "metadata": {},
   "outputs": [],
   "source": [
    "nest_asyncio.apply()\n",
    "\n",
    "c = twint.Config()\n",
    "c.Store_object = True\n",
    "c.Hide_output = False\n",
    "twint.output.users_list = []\n",
    "\n",
    "user_followers = {u:[] for u in most_active_users}\n",
    "\n",
    "print(len(most_active_users))\n",
    "\n",
    "for user in most_active_users[:1]:\n",
    "    c.Username = user.username\n",
    "    twint.run.Followers(c)\n",
    "    followers = twint.output.users_list\n",
    "    print(followers[:2])\n",
    "    user_followers[user.username] = followers\n",
    "    twint.output.users_list = []\n",
    "    \n",
    "    \n",
    "print(len(user_followers))"
   ]
  },
  {
   "cell_type": "code",
   "execution_count": null,
   "metadata": {},
   "outputs": [],
   "source": []
  }
 ],
 "metadata": {
  "kernelspec": {
   "display_name": "Python 3.8.2 64-bit",
   "language": "python",
   "name": "python38264bit4df60f5f9505484d8ff9ba651e850bad"
  },
  "language_info": {
   "codemirror_mode": {
    "name": "ipython",
    "version": 3
   },
   "file_extension": ".py",
   "mimetype": "text/x-python",
   "name": "python",
   "nbconvert_exporter": "python",
   "pygments_lexer": "ipython3",
   "version": "3.8.2"
  }
 },
 "nbformat": 4,
 "nbformat_minor": 4
}
