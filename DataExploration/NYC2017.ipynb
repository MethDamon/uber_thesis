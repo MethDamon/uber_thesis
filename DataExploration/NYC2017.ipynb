{
 "cells": [
  {
   "cell_type": "markdown",
   "metadata": {},
   "source": [
    "## 1. Get most popular Uber-related hashtags"
   ]
  },
  {
   "cell_type": "code",
   "execution_count": null,
   "metadata": {},
   "outputs": [],
   "source": [
    "!pip3 install matplotlib\n",
    "!pip3 install twint\n",
    "!pip3 install numpy"
   ]
  },
  {
   "cell_type": "markdown",
   "metadata": {},
   "source": [
    "### Hashtags and their occurrences"
   ]
  },
  {
   "cell_type": "markdown",
   "metadata": {},
   "source": [
    "import json\n",
    "from collections import Counter\n",
    "import pandas as pd\n",
    "%matplotlib inline\n",
    "import matplotlib.pyplot as plt\n",
    "\n",
    "tweets = []\n",
    "tweets_without_hashtags = []\n",
    "all_hashtags = []\n",
    "with open(\"2017_uber_jan_to_july_deleteuber.txt\") as f:\n",
    "    for line in f:\n",
    "        tweet = json.loads(line)\n",
    "        tweets.append(tweet)\n",
    "        hashtags = tweet['hashtags']\n",
    "        for h in hashtags:\n",
    "            all_hashtags.append(h)\n",
    "        if len(hashtags) == 0:\n",
    "            tweets_without_hashtags.append(tweet)\n",
    "        \n",
    "print(\"Total number of tweets: %d\" % len(tweets))\n",
    "print(\"Number of tweets without hashtags: %d\" % len(tweets_without_hashtags))\n",
    "    \n",
    "c = Counter(all_hashtags)\n",
    "hashtag_count_df = pd.DataFrame.from_dict(c, orient='index', columns=['count']).sort_values(by=['count'], ascending=False).head(10)\n",
    "hashtag_count_df.plot(kind='bar', legend=False, title='Hashtag occurrences')\n",
    "plt.show()"
   ]
  },
  {
   "cell_type": "markdown",
   "metadata": {},
   "source": [
    "### Hashtag co-ocurrences"
   ]
  },
  {
   "cell_type": "code",
   "execution_count": 198,
   "metadata": {},
   "outputs": [
    {
     "data": {
      "text/plain": [
       "[(('#uber', '#deleteuber'), 1570),\n",
       " (('#deleteuber', '#uber'), 1280),\n",
       " (('#lyft', '#deleteuber'), 1123),\n",
       " (('#lyft', '#uber'), 993),\n",
       " (('#deleteuber', '#deleteuber'), 948),\n",
       " (('#ride', '#lyft'), 918),\n",
       " (('#deleteuber', '#loselyft'), 719),\n",
       " (('#ubered', '#deleteuber'), 566),\n",
       " (('#free', '#lyft'), 514),\n",
       " (('#deleteuber', '#lyft'), 468)]"
      ]
     },
     "execution_count": 198,
     "metadata": {},
     "output_type": "execute_result"
    }
   ],
   "source": [
    "from itertools import combinations\n",
    "from collections import Counter\n",
    "\n",
    "hashtag_pairs = []\n",
    "for tweet in tweets:\n",
    "    hashtags = tweet['hashtags']\n",
    "    pairs = combinations(hashtags, r=2)\n",
    "    for pair in pairs:\n",
    "        hashtag_pairs.append(pair)\n",
    "        \n",
    "pairs_counter = Counter(hashtag_pairs)\n",
    "pairs_counter.most_common(10)\n"
   ]
  },
  {
   "cell_type": "markdown",
   "metadata": {},
   "source": [
    "## 3. Create their timelines"
   ]
  },
  {
   "cell_type": "code",
   "execution_count": null,
   "metadata": {},
   "outputs": [],
   "source": [
    "hashtags_dates = {}\n",
    "unique_hashtags = set(all_hashtags)\n",
    "for hashtag in unique_hashtags:\n",
    "    hashtags_dates[hashtag] = {}\n",
    "\n",
    "all_dates = [t['date'] for t in tweets]\n",
    "for d in all_dates:\n",
    "    for h in hashtags_dates.keys():\n",
    "        hashtags_dates[h][d] = 0\n",
    "\n",
    "for t in tweets:\n",
    "    hashtags = t['hashtags']\n",
    "    date = t['date']\n",
    "    for h in hashtags:\n",
    "        count = hashtags_dates[h][date]\n",
    "        if count == 0:\n",
    "            hashtags_dates[h][date] = 1\n",
    "        else:\n",
    "            hashtags_dates[h][date] += 1\n",
    "            \n",
    "# Plot\n",
    "%matplotlib inline\n",
    "import matplotlib.pyplot as plt\n",
    "import numpy as np\n",
    "import pandas as pd\n",
    "from pandas import Grouper\n",
    "from pylab import rcParams\n",
    "\n",
    "rcParams['figure.figsize'] = 20, 10\n",
    "\n",
    "dfs = {}\n",
    "\"\"\"\"\n",
    "for hashtag, date_counts in hashtags_dates.items():\n",
    "    df = pd.DataFrame.from_dict(date_counts, orient='index', columns=['count'])\n",
    "    dfs[hashtag] = df\n",
    "\"\"\"\n",
    "\n",
    "df = pd.DataFrame.from_dict(hashtags_dates, orient='index')\n",
    "df['total'] = df[list(df.columns)].sum(axis=1)\n",
    "df = df.sort_values(by=['total'], ascending=False)\n",
    "\n",
    "top_10 = df.head(5).transpose()[::-1].drop(['total'])\n",
    "top_10\n",
    "top_10.plot(subplots=True, kind='bar')\n",
    "plt.show()"
   ]
  },
  {
   "cell_type": "markdown",
   "metadata": {},
   "source": [
    "## Find out where the tweets are from"
   ]
  },
  {
   "cell_type": "code",
   "execution_count": null,
   "metadata": {},
   "outputs": [],
   "source": [
    "all_places = \n",
    "for t in tweets:\n",
    "    hashtags = t['hashtags']\n",
    "    date = t['date']\n",
    "    for h in hashtags:\n",
    "        count = hashtags_dates[h][date]\n",
    "        if count == 0:\n",
    "            hashtags_dates[h][date] = 1\n",
    "        else:\n",
    "            hashtags_dates[h][date] += 1"
   ]
  }
 ],
 "metadata": {
  "kernelspec": {
   "display_name": "Python 3.8.2 64-bit",
   "language": "python",
   "name": "python38264bit4df60f5f9505484d8ff9ba651e850bad"
  },
  "language_info": {
   "codemirror_mode": {
    "name": "ipython",
    "version": 3
   },
   "file_extension": ".py",
   "mimetype": "text/x-python",
   "name": "python",
   "nbconvert_exporter": "python",
   "pygments_lexer": "ipython3",
   "version": "3.8.2"
  }
 },
 "nbformat": 4,
 "nbformat_minor": 4
}
